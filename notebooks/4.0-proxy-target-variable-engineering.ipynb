{
 "cells": [
  {
   "cell_type": "markdown",
   "metadata": {},
   "source": [
    "# Proxy Target Variable Engineering\n",
    "\n",
    "This notebook implements proxy target variable engineering by:\n",
    "1. Calculating RFM (Recency, Frequency, Monetary) metrics for each customer\n",
    "2. Clustering customers into 3 distinct groups using K-Means\n",
    "3. Identifying the high-risk cluster (least engaged customers)\n",
    "4. Creating a binary target variable `is_high_risk`\n",
    "5. Integrating the target variable back into the main dataset\n",
    "\n",
    "## Overview\n",
    "Since we don't have a pre-existing \"credit risk\" column, we'll create one by identifying disengaged customers who are likely to be high-risk (those with high likelihood of default).\n"
   ]
  },
  {
   "cell_type": "markdown",
   "metadata": {},
   "source": [
    "## Import Required Libraries"
   ]
  },
  {
   "cell_type": "code",
   "execution_count": 2,
   "metadata": {},
   "outputs": [
    {
     "name": "stdout",
     "output_type": "stream",
     "text": [
      "Libraries imported successfully!\n"
     ]
    }
   ],
   "source": [
    "# Import required libraries\n",
    "import pandas as pd\n",
    "import numpy as np\n",
    "import matplotlib.pyplot as plt\n",
    "import seaborn as sns\n",
    "import plotly.express as px\n",
    "from datetime import datetime, timedelta\n",
    "from sklearn.cluster import KMeans\n",
    "from sklearn.preprocessing import StandardScaler\n",
    "from sklearn.metrics import silhouette_score\n",
    "import warnings\n",
    "\n",
    "# Set up plotting style\n",
    "plt.style.use('default')\n",
    "sns.set_palette(\"husl\")\n",
    "warnings.filterwarnings('ignore')\n",
    "\n",
    "# Set display options\n",
    "pd.set_option('display.max_columns', None)\n",
    "pd.set_option('display.max_rows', 100)\n",
    "pd.set_option('display.width', 1000)\n",
    "\n",
    "print(\"Libraries imported successfully!\")"
   ]
  },
  {
   "cell_type": "markdown",
   "metadata": {},
   "source": [
    "## Load and Explore the Data"
   ]
  },
  {
   "cell_type": "code",
   "execution_count": 3,
   "metadata": {},
   "outputs": [
    {
     "name": "stdout",
     "output_type": "stream",
     "text": [
      "Dataset shape: (95662, 16)\n",
      "Number of unique customers: 3742\n"
     ]
    },
    {
     "data": {
      "text/html": [
       "<div>\n",
       "<style scoped>\n",
       "    .dataframe tbody tr th:only-of-type {\n",
       "        vertical-align: middle;\n",
       "    }\n",
       "\n",
       "    .dataframe tbody tr th {\n",
       "        vertical-align: top;\n",
       "    }\n",
       "\n",
       "    .dataframe thead th {\n",
       "        text-align: right;\n",
       "    }\n",
       "</style>\n",
       "<table border=\"1\" class=\"dataframe\">\n",
       "  <thead>\n",
       "    <tr style=\"text-align: right;\">\n",
       "      <th></th>\n",
       "      <th>TransactionId</th>\n",
       "      <th>BatchId</th>\n",
       "      <th>AccountId</th>\n",
       "      <th>SubscriptionId</th>\n",
       "      <th>CustomerId</th>\n",
       "      <th>CurrencyCode</th>\n",
       "      <th>CountryCode</th>\n",
       "      <th>ProviderId</th>\n",
       "      <th>ProductId</th>\n",
       "      <th>ProductCategory</th>\n",
       "      <th>ChannelId</th>\n",
       "      <th>Amount</th>\n",
       "      <th>Value</th>\n",
       "      <th>TransactionStartTime</th>\n",
       "      <th>PricingStrategy</th>\n",
       "      <th>FraudResult</th>\n",
       "    </tr>\n",
       "  </thead>\n",
       "  <tbody>\n",
       "    <tr>\n",
       "      <th>0</th>\n",
       "      <td>TransactionId_76871</td>\n",
       "      <td>BatchId_36123</td>\n",
       "      <td>AccountId_3957</td>\n",
       "      <td>SubscriptionId_887</td>\n",
       "      <td>CustomerId_4406</td>\n",
       "      <td>UGX</td>\n",
       "      <td>256</td>\n",
       "      <td>ProviderId_6</td>\n",
       "      <td>ProductId_10</td>\n",
       "      <td>airtime</td>\n",
       "      <td>ChannelId_3</td>\n",
       "      <td>1000.0</td>\n",
       "      <td>1000</td>\n",
       "      <td>2018-11-15T02:18:49Z</td>\n",
       "      <td>2</td>\n",
       "      <td>0</td>\n",
       "    </tr>\n",
       "    <tr>\n",
       "      <th>1</th>\n",
       "      <td>TransactionId_73770</td>\n",
       "      <td>BatchId_15642</td>\n",
       "      <td>AccountId_4841</td>\n",
       "      <td>SubscriptionId_3829</td>\n",
       "      <td>CustomerId_4406</td>\n",
       "      <td>UGX</td>\n",
       "      <td>256</td>\n",
       "      <td>ProviderId_4</td>\n",
       "      <td>ProductId_6</td>\n",
       "      <td>financial_services</td>\n",
       "      <td>ChannelId_2</td>\n",
       "      <td>-20.0</td>\n",
       "      <td>20</td>\n",
       "      <td>2018-11-15T02:19:08Z</td>\n",
       "      <td>2</td>\n",
       "      <td>0</td>\n",
       "    </tr>\n",
       "    <tr>\n",
       "      <th>2</th>\n",
       "      <td>TransactionId_26203</td>\n",
       "      <td>BatchId_53941</td>\n",
       "      <td>AccountId_4229</td>\n",
       "      <td>SubscriptionId_222</td>\n",
       "      <td>CustomerId_4683</td>\n",
       "      <td>UGX</td>\n",
       "      <td>256</td>\n",
       "      <td>ProviderId_6</td>\n",
       "      <td>ProductId_1</td>\n",
       "      <td>airtime</td>\n",
       "      <td>ChannelId_3</td>\n",
       "      <td>500.0</td>\n",
       "      <td>500</td>\n",
       "      <td>2018-11-15T02:44:21Z</td>\n",
       "      <td>2</td>\n",
       "      <td>0</td>\n",
       "    </tr>\n",
       "    <tr>\n",
       "      <th>3</th>\n",
       "      <td>TransactionId_380</td>\n",
       "      <td>BatchId_102363</td>\n",
       "      <td>AccountId_648</td>\n",
       "      <td>SubscriptionId_2185</td>\n",
       "      <td>CustomerId_988</td>\n",
       "      <td>UGX</td>\n",
       "      <td>256</td>\n",
       "      <td>ProviderId_1</td>\n",
       "      <td>ProductId_21</td>\n",
       "      <td>utility_bill</td>\n",
       "      <td>ChannelId_3</td>\n",
       "      <td>20000.0</td>\n",
       "      <td>21800</td>\n",
       "      <td>2018-11-15T03:32:55Z</td>\n",
       "      <td>2</td>\n",
       "      <td>0</td>\n",
       "    </tr>\n",
       "    <tr>\n",
       "      <th>4</th>\n",
       "      <td>TransactionId_28195</td>\n",
       "      <td>BatchId_38780</td>\n",
       "      <td>AccountId_4841</td>\n",
       "      <td>SubscriptionId_3829</td>\n",
       "      <td>CustomerId_988</td>\n",
       "      <td>UGX</td>\n",
       "      <td>256</td>\n",
       "      <td>ProviderId_4</td>\n",
       "      <td>ProductId_6</td>\n",
       "      <td>financial_services</td>\n",
       "      <td>ChannelId_2</td>\n",
       "      <td>-644.0</td>\n",
       "      <td>644</td>\n",
       "      <td>2018-11-15T03:34:21Z</td>\n",
       "      <td>2</td>\n",
       "      <td>0</td>\n",
       "    </tr>\n",
       "  </tbody>\n",
       "</table>\n",
       "</div>"
      ],
      "text/plain": [
       "         TransactionId         BatchId       AccountId       SubscriptionId       CustomerId CurrencyCode  CountryCode    ProviderId     ProductId     ProductCategory    ChannelId   Amount  Value  TransactionStartTime  PricingStrategy  FraudResult\n",
       "0  TransactionId_76871   BatchId_36123  AccountId_3957   SubscriptionId_887  CustomerId_4406          UGX          256  ProviderId_6  ProductId_10             airtime  ChannelId_3   1000.0   1000  2018-11-15T02:18:49Z                2            0\n",
       "1  TransactionId_73770   BatchId_15642  AccountId_4841  SubscriptionId_3829  CustomerId_4406          UGX          256  ProviderId_4   ProductId_6  financial_services  ChannelId_2    -20.0     20  2018-11-15T02:19:08Z                2            0\n",
       "2  TransactionId_26203   BatchId_53941  AccountId_4229   SubscriptionId_222  CustomerId_4683          UGX          256  ProviderId_6   ProductId_1             airtime  ChannelId_3    500.0    500  2018-11-15T02:44:21Z                2            0\n",
       "3    TransactionId_380  BatchId_102363   AccountId_648  SubscriptionId_2185   CustomerId_988          UGX          256  ProviderId_1  ProductId_21        utility_bill  ChannelId_3  20000.0  21800  2018-11-15T03:32:55Z                2            0\n",
       "4  TransactionId_28195   BatchId_38780  AccountId_4841  SubscriptionId_3829   CustomerId_988          UGX          256  ProviderId_4   ProductId_6  financial_services  ChannelId_2   -644.0    644  2018-11-15T03:34:21Z                2            0"
      ]
     },
     "execution_count": 3,
     "metadata": {},
     "output_type": "execute_result"
    }
   ],
   "source": [
    "# Load the transaction data\n",
    "df = pd.read_csv('../data/raw/data.csv')\n",
    "print(f\"Dataset shape: {df.shape}\")\n",
    "print(f\"Number of unique customers: {df['CustomerId'].nunique()}\")\n",
    "df.head()"
   ]
  },
  {
   "cell_type": "markdown",
   "metadata": {},
   "source": [
    "## Data Type Conversion"
   ]
  },
  {
   "cell_type": "code",
   "execution_count": 4,
   "metadata": {},
   "outputs": [
    {
     "name": "stdout",
     "output_type": "stream",
     "text": [
      "=== DATA TYPES BEFORE CONVERSION ===\n",
      "TransactionId            object\n",
      "BatchId                  object\n",
      "AccountId                object\n",
      "SubscriptionId           object\n",
      "CustomerId               object\n",
      "CurrencyCode             object\n",
      "CountryCode               int64\n",
      "ProviderId               object\n",
      "ProductId                object\n",
      "ProductCategory          object\n",
      "ChannelId                object\n",
      "Amount                  float64\n",
      "Value                     int64\n",
      "TransactionStartTime     object\n",
      "PricingStrategy           int64\n",
      "FraudResult               int64\n",
      "dtype: object\n",
      "\n",
      "=== DATA TYPES AFTER CONVERSION ===\n",
      "TransactionId                        object\n",
      "BatchId                              object\n",
      "AccountId                            object\n",
      "SubscriptionId                       object\n",
      "CustomerId                           object\n",
      "CurrencyCode                         object\n",
      "CountryCode                           int64\n",
      "ProviderId                           object\n",
      "ProductId                            object\n",
      "ProductCategory                      object\n",
      "ChannelId                            object\n",
      "Amount                              float64\n",
      "Value                                 int64\n",
      "TransactionStartTime    datetime64[ns, UTC]\n",
      "PricingStrategy                       int64\n",
      "FraudResult                           int64\n",
      "dtype: object\n",
      "\n",
      "=== DATE RANGE ===\n",
      "Earliest transaction: 2018-11-15 02:18:49+00:00\n",
      "Latest transaction: 2019-02-13 10:01:28+00:00\n",
      "Date range: 90 days\n"
     ]
    }
   ],
   "source": [
    "# Check data types and convert TransactionStartTime to datetime\n",
    "print(\"=== DATA TYPES BEFORE CONVERSION ===\")\n",
    "print(df.dtypes)\n",
    "\n",
    "# Convert TransactionStartTime to datetime\n",
    "df['TransactionStartTime'] = pd.to_datetime(df['TransactionStartTime'])\n",
    "\n",
    "print(\"\\n=== DATA TYPES AFTER CONVERSION ===\")\n",
    "print(df.dtypes)\n",
    "\n",
    "print(f\"\\n=== DATE RANGE ===\")\n",
    "print(f\"Earliest transaction: {df['TransactionStartTime'].min()}\")\n",
    "print(f\"Latest transaction: {df['TransactionStartTime'].max()}\")\n",
    "print(f\"Date range: {(df['TransactionStartTime'].max() - df['TransactionStartTime'].min()).days} days\")"
   ]
  },
  {
   "cell_type": "markdown",
   "metadata": {},
   "source": [
    "## 4: Calculate RFM Metrics"
   ]
  },
  {
   "cell_type": "code",
   "execution_count": 5,
   "metadata": {},
   "outputs": [
    {
     "name": "stdout",
     "output_type": "stream",
     "text": [
      "Snapshot date for RFM calculation: 2019-02-14 10:01:28+00:00\n",
      "RFM dataset shape: (3742, 5)\n"
     ]
    },
    {
     "data": {
      "text/html": [
       "<div>\n",
       "<style scoped>\n",
       "    .dataframe tbody tr th:only-of-type {\n",
       "        vertical-align: middle;\n",
       "    }\n",
       "\n",
       "    .dataframe tbody tr th {\n",
       "        vertical-align: top;\n",
       "    }\n",
       "\n",
       "    .dataframe thead th {\n",
       "        text-align: right;\n",
       "    }\n",
       "</style>\n",
       "<table border=\"1\" class=\"dataframe\">\n",
       "  <thead>\n",
       "    <tr style=\"text-align: right;\">\n",
       "      <th></th>\n",
       "      <th>CustomerId</th>\n",
       "      <th>recency_days</th>\n",
       "      <th>frequency</th>\n",
       "      <th>monetary_total</th>\n",
       "      <th>monetary_avg</th>\n",
       "    </tr>\n",
       "  </thead>\n",
       "  <tbody>\n",
       "    <tr>\n",
       "      <th>0</th>\n",
       "      <td>CustomerId_1</td>\n",
       "      <td>84</td>\n",
       "      <td>1</td>\n",
       "      <td>-10000.0</td>\n",
       "      <td>-10000.00</td>\n",
       "    </tr>\n",
       "    <tr>\n",
       "      <th>1</th>\n",
       "      <td>CustomerId_10</td>\n",
       "      <td>84</td>\n",
       "      <td>1</td>\n",
       "      <td>-10000.0</td>\n",
       "      <td>-10000.00</td>\n",
       "    </tr>\n",
       "    <tr>\n",
       "      <th>2</th>\n",
       "      <td>CustomerId_1001</td>\n",
       "      <td>90</td>\n",
       "      <td>5</td>\n",
       "      <td>20000.0</td>\n",
       "      <td>4000.00</td>\n",
       "    </tr>\n",
       "    <tr>\n",
       "      <th>3</th>\n",
       "      <td>CustomerId_1002</td>\n",
       "      <td>26</td>\n",
       "      <td>11</td>\n",
       "      <td>4225.0</td>\n",
       "      <td>384.09</td>\n",
       "    </tr>\n",
       "    <tr>\n",
       "      <th>4</th>\n",
       "      <td>CustomerId_1003</td>\n",
       "      <td>12</td>\n",
       "      <td>6</td>\n",
       "      <td>20000.0</td>\n",
       "      <td>3333.33</td>\n",
       "    </tr>\n",
       "  </tbody>\n",
       "</table>\n",
       "</div>"
      ],
      "text/plain": [
       "        CustomerId  recency_days  frequency  monetary_total  monetary_avg\n",
       "0     CustomerId_1            84          1        -10000.0     -10000.00\n",
       "1    CustomerId_10            84          1        -10000.0     -10000.00\n",
       "2  CustomerId_1001            90          5         20000.0       4000.00\n",
       "3  CustomerId_1002            26         11          4225.0        384.09\n",
       "4  CustomerId_1003            12          6         20000.0       3333.33"
      ]
     },
     "execution_count": 5,
     "metadata": {},
     "output_type": "execute_result"
    }
   ],
   "source": [
    "# Define snapshot date (last transaction date + 1 day)\n",
    "snapshot_date = df['TransactionStartTime'].max() + timedelta(days=1)\n",
    "print(f\"Snapshot date for RFM calculation: {snapshot_date}\")\n",
    "\n",
    "# Calculate RFM metrics\n",
    "rfm = df.groupby('CustomerId').agg({\n",
    "    'TransactionStartTime': lambda x: (snapshot_date - x.max()).days,  # Recency (days since last transaction)\n",
    "    'TransactionId': 'count',  # Frequency (number of transactions)\n",
    "    'Amount': ['sum', 'mean']  # Monetary (total and average transaction amount)\n",
    "}).round(2)\n",
    "\n",
    "# Flatten column names\n",
    "rfm.columns = ['recency_days', 'frequency', 'monetary_total', 'monetary_avg']\n",
    "rfm = rfm.reset_index()\n",
    "\n",
    "print(f\"RFM dataset shape: {rfm.shape}\")\n",
    "rfm.head()"
   ]
  },
  {
   "cell_type": "markdown",
   "metadata": {},
   "source": [
    "## 5: RFM Summary Statistics"
   ]
  },
  {
   "cell_type": "code",
   "execution_count": 6,
   "metadata": {},
   "outputs": [
    {
     "name": "stdout",
     "output_type": "stream",
     "text": [
      "=== RFM METRICS SUMMARY ===\n",
      "       recency_days    frequency  monetary_total  monetary_avg\n",
      "count   3742.000000  3742.000000    3.742000e+03  3.742000e+03\n",
      "mean      31.461251    25.564404    1.717377e+05  1.571562e+04\n",
      "std       27.118932    96.929602    2.717305e+06  1.676991e+05\n",
      "min        1.000000     1.000000   -1.049000e+08 -4.250000e+05\n",
      "25%        6.000000     2.000000    4.077438e+03  1.000000e+03\n",
      "50%       25.000000     7.000000    2.000000e+04  2.583845e+03\n",
      "75%       54.000000    20.000000    7.996775e+04  4.877610e+03\n",
      "max       91.000000  4091.000000    8.345124e+07  8.601821e+06\n",
      "\n",
      "=== MISSING VALUES ===\n",
      "CustomerId        0\n",
      "recency_days      0\n",
      "frequency         0\n",
      "monetary_total    0\n",
      "monetary_avg      0\n",
      "dtype: int64\n"
     ]
    }
   ],
   "source": [
    "# Summary statistics of RFM metrics\n",
    "print(\"=== RFM METRICS SUMMARY ===\")\n",
    "print(rfm.describe())\n",
    "\n",
    "# Check for any missing values\n",
    "print(\"\\n=== MISSING VALUES ===\")\n",
    "print(rfm.isnull().sum())"
   ]
  },
  {
   "cell_type": "markdown",
   "metadata": {},
   "source": [
    "## 6: Visualize RFM Distributions"
   ]
  },
  {
   "cell_type": "code",
   "execution_count": 7,
   "metadata": {},
   "outputs": [
    {
     "data": {
      "image/png": "[encoded data removed]",
      "text/plain": [
       "<Figure size 1500x1000 with 4 Axes>"
      ]
     },
     "metadata": {},
     "output_type": "display_data"
    }
   ],
   "source": [
    "# Visualize RFM distributions\n",
    "fig, axes = plt.subplots(2, 2, figsize=(15, 10))\n",
    "\n",
    "# Recency distribution\n",
    "axes[0, 0].hist(rfm['recency_days'], bins=50, alpha=0.7, color='skyblue')\n",
    "axes[0, 0].set_title('Recency Distribution (Days)')\n",
    "axes[0, 0].set_xlabel('Days since last transaction')\n",
    "axes[0, 0].set_ylabel('Frequency')\n",
    "\n",
    "# Frequency distribution\n",
    "axes[0, 1].hist(rfm['frequency'], bins=50, alpha=0.7, color='lightgreen')\n",
    "axes[0, 1].set_title('Frequency Distribution')\n",
    "axes[0, 1].set_xlabel('Number of transactions')\n",
    "axes[0, 1].set_ylabel('Frequency')\n",
    "\n",
    "# Monetary total distribution\n",
    "axes[1, 0].hist(rfm['monetary_total'], bins=50, alpha=0.7, color='salmon')\n",
    "axes[1, 0].set_title('Monetary Total Distribution')\n",
    "axes[1, 0].set_xlabel('Total transaction amount')\n",
    "axes[1, 0].set_ylabel('Frequency')\n",
    "\n",
    "# Monetary average distribution\n",
    "axes[1, 1].hist(rfm['monetary_avg'], bins=50, alpha=0.7, color='gold')\n",
    "axes[1, 1].set_title('Monetary Average Distribution')\n",
    "axes[1, 1].set_xlabel('Average transaction amount')\n",
    "axes[1, 1].set_ylabel('Frequency')\n",
    "\n",
    "plt.tight_layout()\n",
    "plt.show()"
   ]
  },
  {
   "cell_type": "markdown",
   "metadata": {},
   "source": [
    "## 7: Data Preprocessing for Clustering"
   ]
  },
  {
   "cell_type": "code",
   "execution_count": 8,
   "metadata": {},
   "outputs": [
    {
     "name": "stdout",
     "output_type": "stream",
     "text": [
      "=== FEATURES FOR CLUSTERING ===\n",
      "   recency_days  frequency  monetary_total\n",
      "0            84          1        -10000.0\n",
      "1            84          1        -10000.0\n",
      "2            90          5         20000.0\n",
      "3            26         11          4225.0\n",
      "4            12          6         20000.0\n",
      "\n",
      "Shape: (3742, 3)\n",
      "\n",
      "=== OUTLIER ANALYSIS ===\n",
      "recency_days: 0 outliers (0.00%)\n",
      "frequency: 448 outliers (11.97%)\n",
      "monetary_total: 470 outliers (12.56%)\n"
     ]
    }
   ],
   "source": [
    "# Select features for clustering (we'll use recency, frequency, and monetary_total)\n",
    "features_for_clustering = ['recency_days', 'frequency', 'monetary_total']\n",
    "X = rfm[features_for_clustering].copy()\n",
    "\n",
    "print(\"=== FEATURES FOR CLUSTERING ===\")\n",
    "print(X.head())\n",
    "print(f\"\\nShape: {X.shape}\")\n",
    "\n",
    "# Check for outliers and extreme values\n",
    "print(\"\\n=== OUTLIER ANALYSIS ===\")\n",
    "for col in features_for_clustering:\n",
    "    Q1 = X[col].quantile(0.25)\n",
    "    Q3 = X[col].quantile(0.75)\n",
    "    IQR = Q3 - Q1\n",
    "    lower_bound = Q1 - 1.5 * IQR\n",
    "    upper_bound = Q3 + 1.5 * IQR\n",
    "    outliers = X[(X[col] < lower_bound) | (X[col] > upper_bound)]\n",
    "    print(f\"{col}: {len(outliers)} outliers ({len(outliers)/len(X)*100:.2f}%)\")"
   ]
  },
  {
   "cell_type": "markdown",
   "metadata": {},
   "source": [
    "## 8: Handle Outliers and Scale Features"
   ]
  },
  {
   "cell_type": "code",
   "execution_count": 9,
   "metadata": {},
   "outputs": [
    {
     "name": "stdout",
     "output_type": "stream",
     "text": [
      "=== AFTER OUTLIER HANDLING ===\n",
      "       recency_days    frequency  monetary_total\n",
      "count   3742.000000  3742.000000    3.742000e+03\n",
      "mean      31.313736    18.078835    4.386486e+04\n",
      "std       26.818515    25.768020    1.721580e+06\n",
      "min        1.000000     1.000000   -1.049000e+08\n",
      "25%        6.000000     2.000000    4.077438e+03\n",
      "50%       25.000000     7.000000    2.000000e+04\n",
      "75%       54.000000    20.000000    7.996775e+04\n",
      "max       84.000000    98.000000    4.927568e+05\n",
      "\n",
      "=== SCALED FEATURES ===\n",
      "       recency_days     frequency  monetary_total\n",
      "count  3.742000e+03  3.742000e+03    3.742000e+03\n",
      "mean   6.456027e-17  2.658364e-17   -3.797663e-18\n",
      "std    1.000134e+00  1.000134e+00    1.000134e+00\n",
      "min   -1.130480e+00 -6.628805e-01   -6.096604e+01\n",
      "25%   -9.440164e-01 -6.240675e-01   -2.311408e-02\n",
      "50%   -2.354560e-01 -4.300026e-01   -1.386404e-02\n",
      "75%    8.460310e-01  7.456615e-02    2.097360e-02\n",
      "max    1.964811e+00  3.101979e+00    2.607791e-01\n"
     ]
    }
   ],
   "source": [
    "# Handle outliers by capping them at the 95th percentile\n",
    "X_cleaned = X.copy()\n",
    "for col in features_for_clustering:\n",
    "    percentile_95 = X[col].quantile(0.95)\n",
    "    X_cleaned[col] = X_cleaned[col].clip(upper=percentile_95)\n",
    "\n",
    "print(\"=== AFTER OUTLIER HANDLING ===\")\n",
    "print(X_cleaned.describe())\n",
    "\n",
    "# Scale the features\n",
    "scaler = StandardScaler()\n",
    "X_scaled = scaler.fit_transform(X_cleaned)\n",
    "X_scaled_df = pd.DataFrame(X_scaled, columns=features_for_clustering, index=X_cleaned.index)\n",
    "\n",
    "print(\"\\n=== SCALED FEATURES ===\")\n",
    "print(X_scaled_df.describe())"
   ]
  },
  {
   "cell_type": "markdown",
   "metadata": {},
   "source": [
    "##  9: K-Means Clustering"
   ]
  },
  {
   "cell_type": "code",
   "execution_count": 10,
   "metadata": {},
   "outputs": [
    {
     "name": "stdout",
     "output_type": "stream",
     "text": [
      "=== CLUSTERING RESULTS ===\n",
      "Number of clusters: 3\n",
      "Cluster distribution:\n",
      "cluster\n",
      "0    1699\n",
      "1    2042\n",
      "2       1\n",
      "Name: count, dtype: int64\n",
      "\n",
      "Silhouette Score: 0.4618\n"
     ]
    }
   ],
   "source": [
    "# Perform K-Means clustering with 3 clusters\n",
    "kmeans = KMeans(n_clusters=3, random_state=42, n_init=10)\n",
    "cluster_labels = kmeans.fit_predict(X_scaled)\n",
    "\n",
    "# Add cluster labels to the RFM dataframe\n",
    "rfm['cluster'] = cluster_labels\n",
    "\n",
    "print(\"=== CLUSTERING RESULTS ===\")\n",
    "print(f\"Number of clusters: {len(np.unique(cluster_labels))}\")\n",
    "print(f\"Cluster distribution:\")\n",
    "print(rfm['cluster'].value_counts().sort_index())\n",
    "\n",
    "# Calculate silhouette score\n",
    "silhouette_avg = silhouette_score(X_scaled, cluster_labels)\n",
    "print(f\"\\nSilhouette Score: {silhouette_avg:.4f}\")"
   ]
  },
  {
   "cell_type": "markdown",
   "metadata": {},
   "source": [
    "## 10: Analyze Cluster Characteristics"
   ]
  },
  {
   "cell_type": "code",
   "execution_count": 11,
   "metadata": {},
   "outputs": [
    {
     "name": "stdout",
     "output_type": "stream",
     "text": [
      "=== CLUSTER CHARACTERISTICS ===\n",
      "        recency_days        frequency        monetary_total            \n",
      "                mean    std      mean    std           mean         std\n",
      "cluster                                                                \n",
      "0              56.77  18.16      5.66   8.22   7.516785e+04   777375.95\n",
      "1              10.41   9.84     40.13  92.33   3.035418e+05  2756230.22\n",
      "2              29.00    NaN   4091.00    NaN  -1.049000e+08         NaN\n",
      "\n",
      "=== CLUSTER SUMMARY ===\n",
      "         Avg_Recency  Avg_Frequency  Avg_Monetary  Customer_Count  Customer_Percentage\n",
      "cluster                                                                               \n",
      "0              56.77           5.66  7.516785e+04            1699                45.40\n",
      "1              10.41          40.13  3.035418e+05            2042                54.57\n",
      "2              29.00        4091.00 -1.049000e+08               1                 0.03\n"
     ]
    }
   ],
   "source": [
    "# Analyze cluster characteristics\n",
    "cluster_analysis = rfm.groupby('cluster')[features_for_clustering].agg(['mean', 'std']).round(2)\n",
    "print(\"=== CLUSTER CHARACTERISTICS ===\")\n",
    "print(cluster_analysis)\n",
    "\n",
    "# Create a summary table\n",
    "cluster_summary = rfm.groupby('cluster').agg({\n",
    "    'recency_days': 'mean',\n",
    "    'frequency': 'mean',\n",
    "    'monetary_total': 'mean',\n",
    "    'CustomerId': 'count'\n",
    "}).round(2)\n",
    "cluster_summary.columns = ['Avg_Recency', 'Avg_Frequency', 'Avg_Monetary', 'Customer_Count']\n",
    "cluster_summary['Customer_Percentage'] = (cluster_summary['Customer_Count'] / len(rfm) * 100).round(2)\n",
    "\n",
    "print(\"\\n=== CLUSTER SUMMARY ===\")\n",
    "print(cluster_summary)"
   ]
  },
  {
   "cell_type": "markdown",
   "metadata": {},
   "source": [
    "## 11: Visualize Clusters"
   ]
  },
  {
   "cell_type": "code",
   "execution_count": 12,
   "metadata": {},
   "outputs": [
    {
     "data": {
      "application/vnd.plotly.v1+json": {
       "config": {
        "plotlyServerURL": "https://plot.ly"
       },
       "data": [
        {
         "hovertemplate": "Recency (Days)=%{x}<br>Frequency=%{y}<br>Monetary Total=%{z}<br>cluster=%{marker.color}<extra></extra>",
         "legendgroup": "",
         "marker": {
          "color": {
           "bdata": "AAAAAAAAAAAAAAAAAQAAAAEAAAAAAAAAAAAAAAAAAAAAAAAAAAAAAAAAAAAAAAAAAQAAAAAAAAABAAAAAQAAAAAAAAAAAAAAAQAAAAEAAAAAAAAAAQAAAAAAAAABAAAAAAAAAAAAAAABAAAAAAAAAAEAAAABAAAAAAAAAAAAAAAAAAAAAAAAAAAAAAABAAAAAAAAAAEAAAAAAAAAAAAAAAAAAAABAAAAAQAAAAEAAAABAAAAAAAAAAAAAAABAAAAAAAAAAEAAAAAAAAAAAAAAAAAAAABAAAAAAAAAAAAAAAAAAAAAAAAAAEAAAAAAAAAAQAAAAEAAAABAAAAAQAAAAEAAAABAAAAAQAAAAEAAAABAAAAAAAAAAAAAAABAAAAAAAAAAEAAAAAAAAAAAAAAAEAAAAAAAAAAAAAAAEAAAAAAAAAAQAAAAEAAAAAAAAAAQAAAAEAAAAAAAAAAQAAAAAAAAAAAAAAAAAAAAAAAAABAAAAAAAAAAAAAAABAAAAAQAAAAEAAAAAAAAAAAAAAAEAAAAAAAAAAAAAAAEAAAAAAAAAAAAAAAEAAAABAAAAAAAAAAEAAAABAAAAAAAAAAEAAAABAAAAAAAAAAAAAAABAAAAAQAAAAAAAAABAAAAAAAAAAEAAAABAAAAAQAAAAEAAAABAAAAAQAAAAAAAAAAAAAAAAAAAAAAAAABAAAAAQAAAAEAAAAAAAAAAAAAAAAAAAAAAAAAAAAAAAAAAAAAAAAAAAAAAAEAAAABAAAAAQAAAAAAAAAAAAAAAQAAAAAAAAAAAAAAAAAAAAEAAAAAAAAAAAAAAAEAAAABAAAAAQAAAAEAAAABAAAAAQAAAAEAAAABAAAAAAAAAAEAAAABAAAAAQAAAAAAAAABAAAAAAAAAAAAAAAAAAAAAAAAAAAAAAABAAAAAAAAAAEAAAABAAAAAAAAAAEAAAABAAAAAQAAAAEAAAABAAAAAQAAAAAAAAABAAAAAQAAAAAAAAABAAAAAQAAAAAAAAABAAAAAQAAAAEAAAABAAAAAAAAAAEAAAABAAAAAAAAAAAAAAAAAAAAAQAAAAEAAAABAAAAAAAAAAEAAAABAAAAAQAAAAAAAAAAAAAAAQAAAAAAAAABAAAAAQAAAAAAAAAAAAAAAAAAAAEAAAABAAAAAAAAAAEAAAABAAAAAQAAAAEAAAABAAAAAAAAAAEAAAAAAAAAAQAAAAEAAAABAAAAAAAAAAEAAAABAAAAAAAAAAAAAAAAAAAAAAAAAAEAAAABAAAAAAAAAAAAAAABAAAAAQAAAAEAAAABAAAAAAAAAAEAAAAAAAAAAAAAAAAAAAAAAAAAAAAAAAAAAAABAAAAAAAAAAAAAAAAAAAAAQAAAAEAAAAAAAAAAAAAAAEAAAAAAAAAAAAAAAEAAAABAAAAAAAAAAAAAAABAAAAAAAAAAEAAAAAAAAAAQAAAAEAAAAAAAAAAQAAAAAAAAABAAAAAQAAAAEAAAAAAAAAAQAAAAAAAAABAAAAAAAAAAAAAAAAAAAAAQAAAAAAAAABAAAAAQAAAAAAAAAAAAAAAAAAAAEAAAAAAAAAAQAAAAAAAAABAAAAAQAAAAAAAAABAAAAAQAAAAEAAAAAAAAAAQAAAAEAAAAAAAAAAQAAAAAAAAAAAAAAAQAAAAEAAAAAAAAAAAAAAAEAAAAAAAAAAAAAAAEAAAAAAAAAAAAAAAEAAAAAAAAAAQAAAAAAAAABAAAAAAAAAAAAAAAAAAAAAAAAAAEAAAABAAAAAQAAAAEAAAAAAAAAAQAAAAEAAAAAAAAAAAAAAAAAAAABAAAAAQAAAAEAAAABAAAAAQAAAAEAAAAAAAAAAAAAAAAAAAABAAAAAQAAAAEAAAABAAAAAAAAAAAAAAAAAAAAAQAAAAEAAAAAAAAAAAAAAAAAAAAAAAAAAAAAAAAAAAABAAAAAAAAAAAAAAABAAAAAAAAAAAAAAABAAAAAAAAAAEAAAABAAAAAQAAAAAAAAABAAAAAQAAAAEAAAABAAAAAQAAAAEAAAAAAAAAAAAAAAEAAAAAAAAAAQAAAAAAAAABAAAAAAAAAAEAAAABAAAAAAAAAAAAAAAAAAAAAAAAAAAAAAAAAAAAAQAAAAEAAAABAAAAAQAAAAAAAAAAAAAAAQAAAAEAAAABAAAAAQAAAAAAAAABAAAAAQAAAAEAAAABAAAAAAAAAAAAAAAAAAAAAQAAAAEAAAABAAAAAAAAAAAAAAAAAAAAAQAAAAAAAAABAAAAAAAAAAAAAAABAAAAAAAAAAEAAAAAAAAAAQAAAAAAAAABAAAAAQAAAAEAAAABAAAAAAAAAAAAAAAAAAAAAAAAAAEAAAAAAAAAAAAAAAAAAAAAAAAAAQAAAAAAAAABAAAAAQAAAAAAAAABAAAAAQAAAAEAAAAAAAAAAQAAAAAAAAABAAAAAQAAAAAAAAAAAAAAAQAAAAEAAAAAAAAAAQAAAAAAAAAAAAAAAQAAAAEAAAAAAAAAAQAAAAAAAAAAAAAAAAAAAAAAAAABAAAAAAAAAAEAAAAAAAAAAQAAAAAAAAABAAAAAQAAAAEAAAAAAAAAAQAAAAAAAAAAAAAAAQAAAAEAAAAAAAAAAAAAAAAAAAAAAAAAAAAAAAAAAAAAAAAAAQAAAAAAAAABAAAAAQAAAAEAAAABAAAAAQAAAAAAAAABAAAAAAAAAAEAAAABAAAAAQAAAAEAAAABAAAAAQAAAAEAAAABAAAAAAAAAAAAAAABAAAAAQAAAAEAAAABAAAAAQAAAAAAAAABAAAAAAAAAAAAAAABAAAAAQAAAAAAAAAAAAAAAQAAAAAAAAAAAAAAAAAAAAAAAAAAAAAAAAAAAAEAAAAAAAAAAAAAAAEAAAABAAAAAAAAAAEAAAABAAAAAAAAAAEAAAAAAAAAAQAAAAAAAAABAAAAAQAAAAAAAAAAAAAAAAAAAAAAAAAAAAAAAQAAAAAAAAABAAAAAQAAAAAAAAABAAAAAQAAAAAAAAABAAAAAQAAAAEAAAAAAAAAAQAAAAEAAAABAAAAAQAAAAAAAAAAAAAAAAAAAAEAAAAAAAAAAAAAAAEAAAABAAAAAQAAAAAAAAAAAAAAAAAAAAAAAAABAAAAAAAAAAEAAAAAAAAAAQAAAAAAAAABAAAAAQAAAAEAAAAAAAAAAAAAAAAAAAAAAAAAAAAAAAAAAAABAAAAAAAAAAAAAAABAAAAAAAAAAAAAAABAAAAAQAAAAEAAAABAAAAAQAAAAEAAAAAAAAAAQAAAAEAAAABAAAAAAAAAAEAAAAAAAAAAAAAAAEAAAABAAAAAAAAAAEAAAABAAAAAAAAAAEAAAABAAAAAAAAAAEAAAAAAAAAAQAAAAEAAAAAAAAAAAAAAAAAAAAAAAAAAAAAAAEAAAABAAAAAAAAAAEAAAAAAAAAAQAAAAEAAAAAAAAAAQAAAAEAAAABAAAAAAAAAAEAAAABAAAAAAAAAAAAAAAAAAAAAQAAAAAAAAAAAAAAAAAAAAEAAAABAAAAAQAAAAAAAAAAAAAAAQAAAAAAAAABAAAAAAAAAAAAAAABAAAAAQAAAAAAAAABAAAAAQAAAAEAAAABAAAAAAAAAAAAAAAAAAAAAQAAAAEAAAAAAAAAAQAAAAAAAAABAAAAAQAAAAEAAAABAAAAAAAAAAAAAAABAAAAAQAAAAAAAAABAAAAAAAAAAAAAAABAAAAAAAAAAAAAAAAAAAAAQAAAAAAAAABAAAAAQAAAAAAAAABAAAAAQAAAAEAAAABAAAAAAAAAAEAAAABAAAAAAAAAAAAAAABAAAAAQAAAAAAAAABAAAAAAAAAAAAAAABAAAAAAAAAAEAAAAAAAAAAQAAAAAAAAABAAAAAQAAAAAAAAABAAAAAAAAAAAAAAABAAAAAQAAAAEAAAABAAAAAQAAAAEAAAAAAAAAAAAAAAEAAAABAAAAAQAAAAAAAAABAAAAAAAAAAEAAAABAAAAAQAAAAEAAAABAAAAAAAAAAAAAAAAAAAAAQAAAAEAAAABAAAAAQAAAAAAAAABAAAAAQAAAAEAAAABAAAAAQAAAAAAAAAAAAAAAQAAAAAAAAABAAAAAAAAAAAAAAAAAAAAAQAAAAAAAAABAAAAAQAAAAEAAAAAAAAAAAAAAAAAAAAAAAAAAAAAAAAAAAAAAAAAAQAAAAEAAAABAAAAAAAAAAAAAAAAAAAAAQAAAAAAAAAAAAAAAQAAAAEAAAABAAAAAAAAAAEAAAABAAAAAQAAAAAAAAABAAAAAQAAAAAAAAABAAAAAQAAAAAAAAABAAAAAAAAAAEAAAAAAAAAAAAAAAEAAAABAAAAAAAAAAEAAAABAAAAAAAAAAAAAAAAAAAAAQAAAAAAAAAAAAAAAAAAAAAAAAAAAAAAAAAAAAAAAAABAAAAAQAAAAEAAAABAAAAAQAAAAEAAAABAAAAAAAAAAEAAAAAAAAAAAAAAAAAAAAAAAAAAQAAAAEAAAAAAAAAAAAAAAAAAAABAAAAAAAAAAEAAAABAAAAAAAAAAAAAAAAAAAAAQAAAAEAAAABAAAAAAAAAAEAAAABAAAAAQAAAAAAAAABAAAAAAAAAAAAAAABAAAAAAAAAAEAAAABAAAAAAAAAAEAAAAAAAAAAAAAAAEAAAAAAAAAAAAAAAAAAAABAAAAAAAAAAAAAAAAAAAAAAAAAAEAAAABAAAAAAAAAAEAAAAAAAAAAQAAAAAAAAAAAAAAAAAAAAAAAAABAAAAAAAAAAEAAAABAAAAAAAAAAAAAAABAAAAAQAAAAAAAAABAAAAAAAAAAAAAAABAAAAAQAAAAAAAAAAAAAAAAAAAAAAAAAAAAAAAQAAAAEAAAAAAAAAAAAAAAAAAAABAAAAAQAAAAEAAAABAAAAAQAAAAEAAAABAAAAAAAAAAEAAAAAAAAAAQAAAAEAAAAAAAAAAQAAAAEAAAABAAAAAQAAAAEAAAABAAAAAAAAAAEAAAABAAAAAQAAAAAAAAAAAAAAAAAAAAAAAAAAAAAAAQAAAAEAAAAAAAAAAAAAAAEAAAAAAAAAAAAAAAAAAAABAAAAAQAAAAEAAAABAAAAAQAAAAAAAAAAAAAAAQAAAAAAAAAAAAAAAAAAAAEAAAAAAAAAAAAAAAEAAAAAAAAAAAAAAAEAAAABAAAAAQAAAAEAAAAAAAAAAAAAAAEAAAAAAAAAAAAAAAAAAAABAAAAAQAAAAAAAAAAAAAAAAAAAAAAAAABAAAAAQAAAAEAAAAAAAAAAQAAAAEAAAAAAAAAAAAAAAAAAAABAAAAAAAAAAEAAAABAAAAAAAAAAAAAAABAAAAAQAAAAEAAAABAAAAAAAAAAEAAAABAAAAAQAAAAAAAAABAAAAAQAAAAEAAAAAAAAAAAAAAAAAAAABAAAAAQAAAAAAAAAAAAAAAQAAAAAAAAAAAAAAAAAAAAAAAAAAAAAAAAAAAAEAAAAAAAAAAQAAAAAAAAABAAAAAAAAAAAAAAAAAAAAAQAAAAAAAAABAAAAAQAAAAEAAAABAAAAAQAAAAAAAAABAAAAAQAAAAEAAAAAAAAAAQAAAAAAAAABAAAAAQAAAAAAAAAAAAAAAAAAAAEAAAABAAAAAAAAAAEAAAAAAAAAAQAAAAEAAAAAAAAAAAAAAAEAAAABAAAAAQAAAAEAAAAAAAAAAAAAAAAAAAAAAAAAAAAAAAEAAAABAAAAAAAAAAEAAAABAAAAAAAAAAAAAAAAAAAAAQAAAAAAAAABAAAAAQAAAAAAAAABAAAAAQAAAAEAAAAAAAAAAQAAAAEAAAAAAAAAAAAAAAAAAAAAAAAAAQAAAAAAAAAAAAAAAQAAAAEAAAABAAAAAQAAAAEAAAAAAAAAAAAAAAEAAAABAAAAAQAAAAAAAAAAAAAAAAAAAAAAAAAAAAAAAQAAAAEAAAABAAAAAAAAAAAAAAABAAAAAAAAAAEAAAAAAAAAAQAAAAAAAAAAAAAAAAAAAAEAAAAAAAAAAQAAAAEAAAABAAAAAQAAAAEAAAABAAAAAQAAAAAAAAAAAAAAAAAAAAEAAAABAAAAAAAAAAAAAAAAAAAAAAAAAAAAAAAAAAAAAQAAAAAAAAAAAAAAAQAAAAEAAAAAAAAAAAAAAAEAAAABAAAAAAAAAAEAAAABAAAAAQAAAAEAAAABAAAAAQAAAAAAAAABAAAAAQAAAAEAAAABAAAAAAAAAAAAAAAAAAAAAQAAAAEAAAABAAAAAQAAAAEAAAABAAAAAAAAAAAAAAAAAAAAAAAAAAAAAAABAAAAAQAAAAEAAAAAAAAAAQAAAAEAAAABAAAAAQAAAAEAAAABAAAAAAAAAAEAAAAAAAAAAAAAAAEAAAABAAAAAQAAAAAAAAABAAAAAQAAAAAAAAABAAAAAQAAAAAAAAABAAAAAQAAAAAAAAABAAAAAAAAAAEAAAAAAAAAAQAAAAAAAAABAAAAAQAAAAEAAAAAAAAAAAAAAAAAAAAAAAAAAAAAAAAAAAABAAAAAQAAAAAAAAAAAAAAAAAAAAEAAAAAAAAAAQAAAAAAAAABAAAAAQAAAAEAAAAAAAAAAAAAAAAAAAABAAAAAAAAAAEAAAAAAAAAAQAAAAEAAAAAAAAAAAAAAAAAAAABAAAAAAAAAAEAAAABAAAAAAAAAAAAAAAAAAAAAQAAAAAAAAAAAAAAAAAAAAEAAAABAAAAAQAAAAEAAAAAAAAAAAAAAAEAAAABAAAAAAAAAAAAAAAAAAAAAQAAAAAAAAAAAAAAAAAAAAEAAAABAAAAAAAAAAEAAAABAAAAAAAAAAEAAAAAAAAAAQAAAAEAAAABAAAAAAAAAAAAAAABAAAAAQAAAAAAAAAAAAAAAQAAAAEAAAABAAAAAQAAAAEAAAABAAAAAQAAAAAAAAABAAAAAAAAAAEAAAABAAAAAAAAAAAAAAAAAAAAAAAAAAAAAAABAAAAAQAAAAEAAAABAAAAAAAAAAEAAAABAAAAAQAAAAEAAAABAAAAAAAAAAEAAAAAAAAAAAAAAAEAAAAAAAAAAQAAAAEAAAABAAAAAQAAAAEAAAAAAAAAAQAAAAEAAAAAAAAAAQAAAAAAAAABAAAAAQAAAAEAAAAAAAAAAQAAAAAAAAABAAAAAAAAAAEAAAABAAAAAAAAAAEAAAABAAAAAQAAAAAAAAABAAAAAQAAAAEAAAABAAAAAQAAAAEAAAABAAAAAAAAAAEAAAAAAAAAAAAAAAAAAAAAAAAAAQAAAAEAAAAAAAAAAQAAAAAAAAAAAAAAAQAAAAEAAAABAAAAAQAAAAAAAAABAAAAAQAAAAEAAAABAAAAAAAAAAEAAAABAAAAAQAAAAAAAAAAAAAAAQAAAAAAAAAAAAAAAQAAAAAAAAABAAAAAAAAAAEAAAABAAAAAQAAAAAAAAAAAAAAAQAAAAEAAAABAAAAAQAAAAAAAAAAAAAAAAAAAAAAAAABAAAAAAAAAAEAAAABAAAAAQAAAAEAAAAAAAAAAQAAAAEAAAABAAAAAQAAAAEAAAAAAAAAAQAAAAAAAAABAAAAAQAAAAEAAAAAAAAAAQAAAAAAAAABAAAAAQAAAAAAAAABAAAAAQAAAAAAAAAAAAAAAAAAAAEAAAABAAAAAQAAAAAAAAAAAAAAAQAAAAAAAAABAAAAAQAAAAEAAAABAAAAAAAAAAAAAAABAAAAAAAAAAEAAAABAAAAAQAAAAAAAAAAAAAAAQAAAAEAAAABAAAAAQAAAAEAAAAAAAAAAQAAAAEAAAAAAAAAAQAAAAAAAAAAAAAAAQAAAAAAAAAAAAAAAQAAAAEAAAABAAAAAQAAAAAAAAABAAAAAAAAAAEAAAAAAAAAAAAAAAEAAAAAAAAAAQAAAAAAAAABAAAAAAAAAAAAAAABAAAAAAAAAAEAAAABAAAAAAAAAAAAAAABAAAAAAAAAAAAAAABAAAAAQAAAAEAAAAAAAAAAAAAAAEAAAAAAAAAAQAAAAEAAAABAAAAAQAAAAEAAAABAAAAAAAAAAAAAAABAAAAAQAAAAAAAAABAAAAAAAAAAAAAAABAAAAAQAAAAEAAAABAAAAAQAAAAAAAAABAAAAAQAAAAEAAAABAAAAAAAAAAEAAAABAAAAAQAAAAAAAAABAAAAAAAAAAEAAAAAAAAAAAAAAAEAAAABAAAAAQAAAAEAAAAAAAAAAAAAAAEAAAAAAAAAAQAAAAAAAAABAAAAAQAAAAEAAAABAAAAAAAAAAEAAAAAAAAAAQAAAAAAAAAAAAAAAQAAAAEAAAABAAAAAQAAAAEAAAAAAAAAAAAAAAAAAAABAAAAAQAAAAEAAAABAAAAAAAAAAEAAAAAAAAAAAAAAAAAAAAAAAAAAQAAAAAAAAAAAAAAAQAAAAAAAAABAAAAAQAAAAEAAAABAAAAAQAAAAEAAAAAAAAAAQAAAAEAAAABAAAAAQAAAAEAAAAAAAAAAAAAAAAAAAAAAAAAAQAAAAAAAAABAAAAAAAAAAEAAAAAAAAAAQAAAAEAAAAAAAAAAQAAAAEAAAAAAAAAAAAAAAAAAAABAAAAAQAAAAEAAAABAAAAAAAAAAEAAAAAAAAAAAAAAAAAAAABAAAAAQAAAAEAAAABAAAAAQAAAAEAAAABAAAAAAAAAAEAAAAAAAAAAQAAAAEAAAAAAAAAAQAAAAAAAAABAAAAAQAAAAAAAAABAAAAAQAAAAAAAAABAAAAAQAAAAEAAAAAAAAAAQAAAAEAAAABAAAAAQAAAAEAAAAAAAAAAAAAAAAAAAAAAAAAAQAAAAAAAAAAAAAAAQAAAAAAAAAAAAAAAQAAAAEAAAAAAAAAAQAAAAAAAAABAAAAAAAAAAEAAAAAAAAAAQAAAAAAAAAAAAAAAAAAAAEAAAABAAAAAAAAAAEAAAAAAAAAAAAAAAEAAAAAAAAAAQAAAAEAAAAAAAAAAAAAAAAAAAABAAAAAAAAAAAAAAAAAAAAAAAAAAEAAAABAAAAAQAAAAEAAAAAAAAAAQAAAAAAAAAAAAAAAQAAAAEAAAABAAAAAAAAAAEAAAAAAAAAAAAAAAAAAAAAAAAAAQAAAAAAAAABAAAAAQAAAAEAAAABAAAAAQAAAAAAAAAAAAAAAQAAAAEAAAABAAAAAAAAAAAAAAAAAAAAAAAAAAEAAAAAAAAAAAAAAAEAAAABAAAAAQAAAAEAAAABAAAAAQAAAAAAAAAAAAAAAQAAAAEAAAABAAAAAQAAAAEAAAAAAAAAAQAAAAEAAAABAAAAAAAAAAAAAAABAAAAAAAAAAEAAAABAAAAAAAAAAEAAAAAAAAAAQAAAAAAAAAAAAAAAAAAAAAAAAABAAAAAAAAAAEAAAAAAAAAAQAAAAAAAAAAAAAAAQAAAAEAAAABAAAAAQAAAAEAAAABAAAAAAAAAAEAAAAAAAAAAAAAAAEAAAABAAAAAQAAAAAAAAABAAAAAAAAAAAAAAABAAAAAAAAAAAAAAAAAAAAAAAAAAEAAAAAAAAAAAAAAAEAAAABAAAAAQAAAAEAAAABAAAAAAAAAAAAAAAAAAAAAQAAAAAAAAABAAAAAQAAAAEAAAABAAAAAAAAAAAAAAABAAAAAAAAAAAAAAABAAAAAQAAAAEAAAAAAAAAAQAAAAAAAAAAAAAAAQAAAAEAAAAAAAAAAQAAAAEAAAABAAAAAQAAAAEAAAABAAAAAAAAAAAAAAAAAAAAAQAAAAEAAAAAAAAAAQAAAAEAAAAAAAAAAAAAAAEAAAAAAAAAAAAAAAEAAAABAAAAAAAAAAEAAAABAAAAAAAAAAEAAAABAAAAAQAAAAAAAAAAAAAAAAAAAAEAAAAAAAAAAQAAAAAAAAABAAAAAQAAAAAAAAABAAAAAAAAAAEAAAABAAAAAAAAAAEAAAABAAAAAQAAAAEAAAAAAAAAAQAAAAEAAAABAAAAAQAAAAEAAAAAAAAAAAAAAAEAAAAAAAAAAQAAAAEAAAAAAAAAAAAAAAEAAAAAAAAAAQAAAAAAAAABAAAAAQAAAAAAAAAAAAAAAAAAAAEAAAABAAAAAQAAAAAAAAAAAAAAAQAAAAAAAAAAAAAAAQAAAAAAAAAAAAAAAQAAAAEAAAAAAAAAAQAAAAAAAAABAAAAAQAAAAEAAAAAAAAAAQAAAAEAAAAAAAAAAQAAAAAAAAAAAAAAAQAAAAEAAAABAAAAAQAAAAEAAAAAAAAAAAAAAAAAAAABAAAAAAAAAAAAAAABAAAAAAAAAAAAAAAAAAAAAAAAAAEAAAAAAAAAAQAAAAEAAAABAAAAAAAAAAAAAAAAAAAAAQAAAAEAAAAAAAAAAQAAAAEAAAABAAAAAQAAAAEAAAABAAAAAQAAAAAAAAAAAAAAAAAAAAEAAAABAAAAAQAAAAEAAAAAAAAAAQAAAAAAAAAAAAAAAQAAAAEAAAABAAAAAAAAAAAAAAABAAAAAAAAAAEAAAAAAAAAAAAAAAEAAAABAAAAAAAAAAEAAAABAAAAAQAAAAEAAAABAAAAAAAAAAEAAAABAAAAAQAAAAEAAAAAAAAAAAAAAAEAAAABAAAAAQAAAAEAAAAAAAAAAQAAAAEAAAABAAAAAAAAAAAAAAABAAAAAAAAAAEAAAABAAAAAAAAAAAAAAABAAAAAQAAAAEAAAABAAAAAQAAAAAAAAABAAAAAQAAAAEAAAAAAAAAAAAAAAEAAAABAAAAAQAAAAAAAAAAAAAAAQAAAAEAAAABAAAAAQAAAAAAAAAAAAAAAQAAAAAAAAABAAAAAQAAAAAAAAABAAAAAQAAAAEAAAABAAAAAAAAAAEAAAABAAAAAQAAAAEAAAABAAAAAQAAAAAAAAABAAAAAQAAAAAAAAABAAAAAAAAAAAAAAAAAAAAAQAAAAAAAAABAAAAAQAAAAAAAAABAAAAAAAAAAEAAAABAAAAAAAAAAAAAAAAAAAAAAAAAAAAAAAAAAAAAQAAAAEAAAABAAAAAAAAAAAAAAABAAAAAQAAAAEAAAAAAAAAAAAAAAAAAAABAAAAAQAAAAEAAAABAAAAAQAAAAEAAAABAAAAAQAAAAEAAAABAAAAAQAAAAEAAAABAAAAAQAAAAEAAAABAAAAAQAAAAEAAAABAAAAAAAAAAEAAAABAAAAAAAAAAEAAAABAAAAAQAAAAEAAAAAAAAAAQAAAAAAAAABAAAAAQAAAAEAAAABAAAAAQAAAAEAAAAAAAAAAQAAAAAAAAABAAAAAQAAAAEAAAAAAAAAAQAAAAAAAAABAAAAAQAAAAEAAAABAAAAAAAAAAAAAAAAAAAAAQAAAAEAAAABAAAAAAAAAAAAAAABAAAAAAAAAAAAAAABAAAAAQAAAAEAAAABAAAAAQAAAAEAAAAAAAAAAQAAAAAAAAABAAAAAQAAAAAAAAAAAAAAAAAAAAEAAAAAAAAAAQAAAAEAAAABAAAAAQAAAAEAAAABAAAAAAAAAAAAAAAAAAAAAQAAAAEAAAABAAAAAQAAAAEAAAAAAAAAAQAAAAAAAAABAAAAAAAAAAEAAAABAAAAAAAAAAEAAAAAAAAAAQAAAAAAAAABAAAAAQAAAAAAAAABAAAAAQAAAAAAAAAAAAAAAQAAAAAAAAABAAAAAAAAAAEAAAAAAAAAAQAAAAEAAAABAAAAAAAAAAEAAAABAAAAAQAAAAAAAAAAAAAAAAAAAAEAAAABAAAAAAAAAAEAAAAAAAAAAAAAAAAAAAAAAAAAAQAAAAEAAAAAAAAAAAAAAAAAAAABAAAAAQAAAAEAAAAAAAAAAAAAAAAAAAAAAAAAAQAAAAEAAAAAAAAAAQAAAAEAAAAAAAAAAAAAAAEAAAAAAAAAAQAAAAEAAAABAAAAAAAAAAEAAAABAAAAAQAAAAEAAAABAAAAAQAAAAEAAAABAAAAAAAAAAEAAAAAAAAAAAAAAAAAAAAAAAAAAAAAAAEAAAAAAAAAAQAAAAEAAAAAAAAAAAAAAAEAAAAAAAAAAAAAAAEAAAABAAAAAAAAAAAAAAABAAAAAAAAAAEAAAAAAAAAAQAAAAAAAAABAAAAAQAAAAAAAAAAAAAAAQAAAAAAAAABAAAAAQAAAAAAAAABAAAAAQAAAAAAAAABAAAAAQAAAAEAAAABAAAAAQAAAAAAAAAAAAAAAAAAAAEAAAABAAAAAAAAAAEAAAABAAAAAAAAAAAAAAAAAAAAAQAAAAAAAAABAAAAAQAAAAEAAAABAAAAAQAAAAAAAAAAAAAAAAAAAAEAAAAAAAAAAAAAAAEAAAAAAAAAAQAAAAAAAAABAAAAAAAAAAAAAAABAAAAAAAAAAAAAAAAAAAAAAAAAAAAAAABAAAAAQAAAAEAAAAAAAAAAQAAAAAAAAABAAAAAAAAAAAAAAABAAAAAAAAAAAAAAAAAAAAAQAAAAAAAAAAAAAAAQAAAAEAAAAAAAAAAAAAAAAAAAAAAAAAAQAAAAAAAAABAAAAAQAAAAAAAAAAAAAAAQAAAAEAAAABAAAAAAAAAAAAAAABAAAAAQAAAAAAAAAAAAAAAQAAAAAAAAABAAAAAQAAAAAAAAABAAAAAQAAAAEAAAAAAAAAAAAAAAEAAAABAAAAAQAAAAEAAAABAAAAAQAAAAAAAAABAAAAAQAAAAAAAAABAAAAAQAAAAEAAAABAAAAAAAAAAEAAAAAAAAAAAAAAAEAAAABAAAAAAAAAAAAAAABAAAAAQAAAAEAAAAAAAAAAAAAAAEAAAAAAAAAAQAAAAEAAAABAAAAAAAAAAAAAAABAAAAAQAAAAEAAAABAAAAAAAAAAEAAAABAAAAAQAAAAAAAAAAAAAAAQAAAAEAAAABAAAAAQAAAAAAAAABAAAAAQAAAAEAAAABAAAAAQAAAAEAAAAAAAAAAAAAAAAAAAAAAAAAAQAAAAAAAAAAAAAAAQAAAAEAAAABAAAAAAAAAAAAAAAAAAAAAQAAAAAAAAAAAAAAAAAAAAEAAAABAAAAAAAAAAAAAAAAAAAAAQAAAAAAAAABAAAAAQAAAAEAAAAAAAAAAQAAAAAAAAAAAAAAAAAAAAEAAAABAAAAAAAAAAEAAAAAAAAAAQAAAAEAAAABAAAAAAAAAAEAAAAAAAAAAAAAAAEAAAABAAAAAQAAAAEAAAABAAAAAAAAAAAAAAAAAAAAAAAAAAEAAAABAAAAAAAAAAAAAAABAAAAAQAAAAEAAAABAAAAAQAAAAEAAAABAAAAAAAAAAAAAAABAAAAAAAAAAAAAAAAAAAAAQAAAAEAAAABAAAAAAAAAAAAAAAAAAAAAAAAAAAAAAABAAAAAQAAAAEAAAAAAAAAAAAAAAEAAAABAAAAAAAAAAEAAAABAAAAAAAAAAEAAAABAAAAAQAAAAAAAAABAAAAAQAAAAEAAAAAAAAAAQAAAAAAAAAAAAAAAQAAAAAAAAABAAAAAAAAAAEAAAAAAAAAAAAAAAEAAAABAAAAAQAAAAEAAAAAAAAAAAAAAAAAAAAAAAAAAQAAAAEAAAABAAAAAQAAAAAAAAAAAAAAAQAAAAEAAAABAAAAAQAAAAAAAAABAAAAAQAAAAAAAAAAAAAAAQAAAAEAAAABAAAAAQAAAAAAAAABAAAAAAAAAAEAAAABAAAAAQAAAAEAAAAAAAAAAAAAAAAAAAABAAAAAQAAAAEAAAAAAAAAAQAAAAEAAAAAAAAAAAAAAAEAAAABAAAAAQAAAAAAAAABAAAAAQAAAAAAAAABAAAAAQAAAAEAAAABAAAAAAAAAAEAAAAAAAAAAQAAAAEAAAABAAAAAAAAAAAAAAAAAAAAAQAAAAAAAAABAAAAAQAAAAAAAAABAAAAAQAAAAEAAAAAAAAAAAAAAAEAAAAAAAAAAQAAAAAAAAABAAAAAQAAAAAAAAABAAAAAQAAAAEAAAAAAAAAAQAAAAAAAAABAAAAAQAAAAEAAAAAAAAAAQAAAAEAAAAAAAAAAAAAAAAAAAABAAAAAAAAAAEAAAAAAAAAAAAAAAEAAAAAAAAAAQAAAAAAAAABAAAAAAAAAAEAAAAAAAAAAAAAAAAAAAAAAAAAAAAAAAEAAAAAAAAAAQAAAAEAAAABAAAAAAAAAAAAAAABAAAAAAAAAAAAAAAAAAAAAQAAAAEAAAABAAAAAQAAAAEAAAAAAAAAAQAAAAEAAAABAAAAAAAAAAAAAAABAAAAAAAAAAEAAAABAAAAAAAAAAEAAAABAAAAAQAAAAAAAAABAAAAAAAAAAEAAAABAAAAAQAAAAAAAAABAAAAAAAAAAAAAAABAAAAAAAAAAEAAAABAAAAAQAAAAEAAAABAAAAAAAAAAAAAAABAAAAAAAAAAAAAAAAAAAAAQAAAAEAAAABAAAAAQAAAAEAAAAAAAAAAQAAAAAAAAABAAAAAQAAAAEAAAABAAAAAQAAAAAAAAAAAAAAAAAAAAEAAAABAAAAAQAAAAEAAAABAAAAAQAAAAEAAAAAAAAAAQAAAAEAAAABAAAAAAAAAAAAAAAAAAAAAQAAAAEAAAABAAAAAAAAAAEAAAAAAAAAAQAAAAEAAAABAAAAAQAAAAEAAAAAAAAAAAAAAAAAAAAAAAAAAQAAAAAAAAAAAAAAAQAAAAEAAAABAAAAAAAAAAEAAAABAAAAAAAAAAAAAAAAAAAAAAAAAAAAAAABAAAAAQAAAAEAAAAAAAAAAQAAAAEAAAABAAAAAAAAAAAAAAABAAAAAQAAAAEAAAABAAAAAQAAAAAAAAAAAAAAAQAAAAEAAAABAAAAAQAAAAAAAAAAAAAAAQAAAAAAAAABAAAAAQAAAAAAAAAAAAAAAAAAAAEAAAAAAAAAAQAAAAEAAAABAAAAAQAAAAAAAAABAAAAAAAAAAEAAAABAAAAAQAAAAAAAAABAAAAAQAAAAAAAAAAAAAAAAAAAAEAAAABAAAAAAAAAAAAAAAAAAAAAAAAAAEAAAAAAAAAAAAAAAAAAAAAAAAAAQAAAAAAAAAAAAAAAAAAAAEAAAAAAAAAAQAAAAAAAAABAAAAAAAAAAEAAAABAAAAAQAAAAAAAAABAAAAAAAAAAEAAAAAAAAAAQAAAAEAAAABAAAAAQAAAAEAAAAAAAAAAAAAAAEAAAABAAAAAQAAAAAAAAABAAAAAQAAAAAAAAABAAAAAAAAAAEAAAAAAAAAAAAAAAEAAAABAAAAAAAAAAAAAAABAAAAAAAAAAAAAAAAAAAAAQAAAAAAAAAAAAAAAQAAAAAAAAAAAAAAAAAAAAEAAAABAAAAAQAAAAAAAAABAAAAAAAAAAAAAAAAAAAAAAAAAAAAAAABAAAAAQAAAAAAAAAAAAAAAQAAAAAAAAAAAAAAAQAAAAEAAAABAAAAAAAAAAEAAAAAAAAAAAAAAAAAAAABAAAAAAAAAAAAAAAAAAAAAQAAAAEAAAABAAAAAAAAAAEAAAABAAAAAAAAAAEAAAABAAAAAQAAAAEAAAAAAAAAAQAAAAEAAAAAAAAAAQAAAAEAAAAAAAAAAQAAAAEAAAABAAAAAQAAAAEAAAABAAAAAQAAAAAAAAABAAAAAQAAAAEAAAAAAAAAAAAAAAEAAAAAAAAAAQAAAAEAAAABAAAAAQAAAAAAAAABAAAAAQAAAAAAAAAAAAAAAAAAAAAAAAAAAAAAAAAAAAEAAAABAAAAAAAAAAEAAAAAAAAAAQAAAAAAAAABAAAAAQAAAAAAAAAAAAAAAQAAAAAAAAABAAAAAAAAAAEAAAABAAAAAQAAAAEAAAABAAAAAAAAAAEAAAAAAAAAAAAAAAEAAAABAAAAAAAAAAEAAAABAAAAAAAAAAAAAAAAAAAAAQAAAAEAAAAAAAAAAQAAAAAAAAAAAAAAAAAAAAAAAAABAAAAAAAAAAAAAAABAAAAAAAAAAAAAAABAAAAAQAAAAEAAAAAAAAAAAAAAAAAAAABAAAAAAAAAAEAAAABAAAAAQAAAAEAAAAAAAAAAQAAAAEAAAABAAAAAQAAAAEAAAABAAAAAQAAAAAAAAABAAAAAAAAAAEAAAABAAAAAQAAAAEAAAABAAAAAQAAAAEAAAAAAAAAAAAAAAAAAAAAAAAAAAAAAAEAAAAAAAAAAQAAAAAAAAABAAAAAQAAAAEAAAABAAAAAAAAAAAAAAAAAAAAAQAAAAEAAAAAAAAAAAAAAAEAAAAAAAAAAQAAAAAAAAAAAAAAAQAAAAEAAAABAAAAAQAAAAAAAAABAAAAAQAAAAEAAAABAAAAAQAAAAEAAAAAAAAAAQAAAAEAAAABAAAAAQAAAAAAAAAAAAAAAAAAAAEAAAAAAAAAAQAAAAEAAAABAAAAAQAAAAEAAAABAAAAAAAAAAEAAAABAAAAAQAAAAEAAAABAAAAAQAAAAEAAAAAAAAAAAAAAAEAAAAAAAAAAQAAAAEAAAAAAAAAAQAAAAAAAAAAAAAAAQAAAAEAAAABAAAAAAAAAAEAAAABAAAAAAAAAAAAAAAAAAAAAQAAAAAAAAABAAAAAQAAAAEAAAAAAAAAAQAAAAEAAAABAAAAAQAAAAAAAAAAAAAAAQAAAAAAAAABAAAAAQAAAAEAAAAAAAAAAAAAAAEAAAABAAAAAAAAAAAAAAAAAAAAAAAAAAAAAAABAAAAAAAAAAEAAAABAAAAAAAAAAEAAAAAAAAAAAAAAAAAAAAAAAAAAQAAAAEAAAAAAAAAAQAAAAEAAAAAAAAAAQAAAAEAAAAAAAAAAAAAAAAAAAAAAAAAAAAAAAEAAAABAAAAAQAAAAAAAAAAAAAAAQAAAAAAAAABAAAAAQAAAAEAAAAAAAAAAQAAAAEAAAAAAAAAAQAAAAAAAAAAAAAAAQAAAAEAAAAAAAAAAAAAAAAAAAAAAAAAAAAAAAEAAAAAAAAAAQAAAAAAAAAAAAAAAQAAAAAAAAAAAAAAAQAAAAAAAAABAAAAAQAAAAEAAAABAAAAAQAAAAAAAAAAAAAAAQAAAAEAAAABAAAAAQAAAAAAAAAAAAAAAAAAAAAAAAABAAAAAQAAAAEAAAABAAAAAQAAAAEAAAABAAAAAAAAAAEAAAABAAAAAQAAAAEAAAABAAAAAAAAAAEAAAABAAAAAQAAAAEAAAAAAAAAAQAAAAAAAAAAAAAAAAAAAAAAAAAAAAAAAQAAAAEAAAABAAAAAAAAAAAAAAABAAAAAQAAAAAAAAABAAAAAQAAAAEAAAAAAAAAAQAAAAEAAAAAAAAAAAAAAAEAAAAAAAAAAAAAAAEAAAABAAAAAAAAAAAAAAAAAAAAAQAAAAEAAAABAAAAAQAAAAAAAAABAAAAAQAAAAAAAAABAAAAAQAAAAAAAAABAAAAAQAAAAAAAAABAAAAAAAAAAAAAAABAAAAAQAAAAEAAAABAAAAAAAAAAAAAAABAAAAAAAAAAEAAAAAAAAAAQAAAAEAAAABAAAAAQAAAAEAAAABAAAAAAAAAAEAAAABAAAAAAAAAAEAAAAAAAAAAQAAAAEAAAABAAAAAQAAAAEAAAABAAAAAQAAAAEAAAAAAAAAAQAAAAAAAAAAAAAAAAAAAAEAAAABAAAAAQAAAAAAAAABAAAAAAAAAAEAAAABAAAAAQAAAAEAAAAAAAAAAQAAAAEAAAABAAAAAQAAAAEAAAAAAAAAAQAAAAAAAAABAAAAAQAAAAAAAAABAAAAAQAAAAAAAAAAAAAAAAAAAAAAAAAAAAAAAQAAAAEAAAAAAAAAAQAAAAEAAAAAAAAAAQAAAAAAAAAAAAAAAQAAAAEAAAAAAAAAAQAAAAAAAAABAAAAAQAAAAAAAAABAAAAAQAAAAAAAAAAAAAAAAAAAAAAAAAAAAAAAQAAAAEAAAAAAAAAAAAAAAEAAAAAAAAAAAAAAAEAAAABAAAAAQAAAAAAAAAAAAAAAAAAAAAAAAAAAAAAAAAAAAAAAAAAAAAAAAAAAAAAAAABAAAAAQAAAAAAAAAAAAAAAQAAAAAAAAABAAAAAAAAAAAAAAABAAAAAAAAAAEAAAAAAAAAAAAAAAEAAAABAAAAAQAAAAAAAAABAAAAAQAAAAAAAAAAAAAAAQAAAAAAAAABAAAAAAAAAAEAAAABAAAAAQAAAAEAAAABAAAAAAAAAAEAAAABAAAAAAAAAAEAAAABAAAAAQAAAAEAAAABAAAAAAAAAAEAAAABAAAAAAAAAAAAAAAAAAAAAQAAAAAAAAAAAAAAAQAAAAAAAAABAAAAAQAAAAEAAAABAAAAAAAAAAEAAAABAAAAAQAAAAEAAAABAAAAAAAAAAAAAAAAAAAAAAAAAAAAAAABAAAAAQAAAAAAAAABAAAAAAAAAAEAAAAAAAAAAAAAAAAAAAABAAAAAQAAAAAAAAAAAAAAAAAAAAAAAAAAAAAAAQAAAAEAAAABAAAAAAAAAAAAAAABAAAAAQAAAAEAAAAAAAAAAQAAAAAAAAABAAAAAQAAAAAAAAAAAAAAAAAAAAAAAAAAAAAAAAAAAAAAAAAAAAAAAAAAAAAAAAAAAAAAAAAAAAEAAAAAAAAAAAAAAAEAAAAAAAAAAAAAAAEAAAAAAAAAAAAAAAIAAAAAAAAAAAAAAAEAAAAAAAAAAAAAAAAAAAAAAAAAAQAAAAAAAAABAAAAAAAAAAAAAAAAAAAAAQAAAAAAAAABAAAAAAAAAAEAAAAAAAAAAAAAAAEAAAABAAAAAAAAAAEAAAAAAAAAAQAAAAEAAAABAAAAAQAAAAEAAAABAAAAAAAAAAAAAAAAAAAAAAAAAAAAAAABAAAAAAAAAAAAAAAAAAAAAAAAAAAAAAAAAAAAAQAAAAAAAAAAAAAAAQAAAAAAAAAAAAAAAAAAAAAAAAABAAAAAAAAAAEAAAABAAAAAAAAAAAAAAAAAAAAAAAAAAEAAAABAAAAAQAAAAEAAAABAAAAAQAAAAEAAAABAAAAAQAAAAEAAAABAAAAAQAAAAAAAAAAAAAAAAAAAAAAAAAAAAAAAAAAAAAAAAAAAAAAAAAAAAAAAAABAAAAAAAAAAEAAAABAAAAAAAAAAAAAAAAAAAAAQAAAAAAAAAAAAAAAAAAAAEAAAABAAAAAQAAAAEAAAABAAAAAAAAAAEAAAAAAAAAAQAAAAEAAAABAAAAAQAAAAAAAAAAAAAAAQAAAAAAAAABAAAAAQAAAAEAAAAAAAAAAQAAAAEAAAABAAAAAQAAAAAAAAAAAAAAAQAAAAEAAAAAAAAAAAAAAAEAAAABAAAAAQAAAAAAAAABAAAAAAAAAAEAAAABAAAAAQAAAAAAAAABAAAAAAAAAAAAAAABAAAAAAAAAAAAAAAAAAAAAAAAAAEAAAAAAAAAAAAAAAAAAAAAAAAAAAAAAAEAAAABAAAAAAAAAAAAAAABAAAAAAAAAAEAAAAAAAAAAAAAAAAAAAAAAAAAAQAAAAAAAAABAAAAAQAAAAEAAAABAAAAAQAAAAAAAAAAAAAAAAAAAAEAAAABAAAAAAAAAAAAAAABAAAAAQAAAAAAAAAAAAAAAAAAAAEAAAAAAAAAAAAAAAAAAAABAAAAAAAAAAAAAAAAAAAAAAAAAAAAAAABAAAAAQAAAAAAAAAAAAAAAAAAAAAAAAAAAAAAAQAAAAAAAAABAAAAAAAAAAAAAAABAAAAAQAAAAAAAAABAAAAAQAAAAAAAAAAAAAAAQAAAAAAAAABAAAAAQAAAAEAAAABAAAAAQAAAAEAAAABAAAAAQAAAAAAAAAAAAAAAAAAAAEAAAABAAAAAQAAAAEAAAABAAAAAQAAAAAAAAABAAAAAQAAAAAAAAAAAAAAAAAAAAEAAAAAAAAAAQAAAAEAAAAAAAAAAAAAAAEAAAABAAAAAAAAAAEAAAAAAAAAAAAAAAAAAAABAAAAAQAAAAEAAAAAAAAAAAAAAAEAAAAAAAAAAQAAAAAAAAABAAAAAAAAAAEAAAABAAAAAQAAAAEAAAABAAAAAQAAAAEAAAAAAAAAAQAAAA==",
           "dtype": "i4"
          },
          "coloraxis": "coloraxis",
          "symbol": "circle"
         },
         "mode": "markers",
         "name": "",
         "scene": "scene",
         "showlegend": false,
         "type": "scatter3d",
         "x": {
          "bdata": "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",
          "dtype": "i1"
         },
         "y": {
          "bdata": "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",
          "dtype": "i2"
         },
         "z": {
          "bdata": "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",
          "dtype": "f8"
         }
        }
       ],
       "layout": {
        "coloraxis": {
         "colorbar": {
          "title": {
           "text": "cluster"
          }
         },
         "colorscale": [
          [
           0,
           "#0d0887"
          ],
          [
           0.1111111111111111,
           "#46039f"
          ],
          [
           0.2222222222222222,
           "#7201a8"
          ],
          [
           0.3333333333333333,
           "#9c179e"
          ],
          [
           0.4444444444444444,
           "#bd3786"
          ],
          [
           0.5555555555555556,
           "#d8576b"
          ],
          [
           0.6666666666666666,
           "#ed7953"
          ],
          [
           0.7777777777777778,
           "#fb9f3a"
          ],
          [
           0.8888888888888888,
           "#fdca26"
          ],
          [
           1,
           "#f0f921"
          ]
         ]
        },
        "legend": {
         "tracegroupgap": 0
        },
        "scene": {
         "domain": {
          "x": [
           0,
           1
          ],
          "y": [
           0,
           1
          ]
         },
         "xaxis": {
          "title": {
           "text": "Recency (Days)"
          }
         },
         "yaxis": {
          "title": {
           "text": "Frequency"
          }
         },
         "zaxis": {
          "title": {
           "text": "Monetary Total"
          }
         }
        },
        "template": {
         "data": {
          "bar": [
           {
            "error_x": {
             "color": "#2a3f5f"
            },
            "error_y": {
             "color": "#2a3f5f"
            },
            "marker": {
             "line": {
              "color": "#E5ECF6",
              "width": 0.5
             },
             "pattern": {
              "fillmode": "overlay",
              "size": 10,
              "solidity": 0.2
             }
            },
            "type": "bar"
           }
          ],
          "barpolar": [
           {
            "marker": {
             "line": {
              "color": "#E5ECF6",
              "width": 0.5
             },
             "pattern": {
              "fillmode": "overlay",
              "size": 10,
              "solidity": 0.2
             }
            },
            "type": "barpolar"
           }
          ],
          "carpet": [
           {
            "aaxis": {
             "endlinecolor": "#2a3f5f",
             "gridcolor": "white",
             "linecolor": "white",
             "minorgridcolor": "white",
             "startlinecolor": "#2a3f5f"
            },
            "baxis": {
             "endlinecolor": "#2a3f5f",
             "gridcolor": "white",
             "linecolor": "white",
             "minorgridcolor": "white",
             "startlinecolor": "#2a3f5f"
            },
            "type": "carpet"
           }
          ],
          "choropleth": [
           {
            "colorbar": {
             "outlinewidth": 0,
             "ticks": ""
            },
            "type": "choropleth"
           }
          ],
          "contour": [
           {
            "colorbar": {
             "outlinewidth": 0,
             "ticks": ""
            },
            "colorscale": [
             [
              0,
              "#0d0887"
             ],
             [
              0.1111111111111111,
              "#46039f"
             ],
             [
              0.2222222222222222,
              "#7201a8"
             ],
             [
              0.3333333333333333,
              "#9c179e"
             ],
             [
              0.4444444444444444,
              "#bd3786"
             ],
             [
              0.5555555555555556,
              "#d8576b"
             ],
             [
              0.6666666666666666,
              "#ed7953"
             ],
             [
              0.7777777777777778,
              "#fb9f3a"
             ],
             [
              0.8888888888888888,
              "#fdca26"
             ],
             [
              1,
              "#f0f921"
             ]
            ],
            "type": "contour"
           }
          ],
          "contourcarpet": [
           {
            "colorbar": {
             "outlinewidth": 0,
             "ticks": ""
            },
            "type": "contourcarpet"
           }
          ],
          "heatmap": [
           {
            "colorbar": {
             "outlinewidth": 0,
             "ticks": ""
            },
            "colorscale": [
             [
              0,
              "#0d0887"
             ],
             [
              0.1111111111111111,
              "#46039f"
             ],
             [
              0.2222222222222222,
              "#7201a8"
             ],
             [
              0.3333333333333333,
              "#9c179e"
             ],
             [
              0.4444444444444444,
              "#bd3786"
             ],
             [
              0.5555555555555556,
              "#d8576b"
             ],
             [
              0.6666666666666666,
              "#ed7953"
             ],
             [
              0.7777777777777778,
              "#fb9f3a"
             ],
             [
              0.8888888888888888,
              "#fdca26"
             ],
             [
              1,
              "#f0f921"
             ]
            ],
            "type": "heatmap"
           }
          ],
          "histogram": [
           {
            "marker": {
             "pattern": {
              "fillmode": "overlay",
              "size": 10,
              "solidity": 0.2
             }
            },
            "type": "histogram"
           }
          ],
          "histogram2d": [
           {
            "colorbar": {
             "outlinewidth": 0,
             "ticks": ""
            },
            "colorscale": [
             [
              0,
              "#0d0887"
             ],
             [
              0.1111111111111111,
              "#46039f"
             ],
             [
              0.2222222222222222,
              "#7201a8"
             ],
             [
              0.3333333333333333,
              "#9c179e"
             ],
             [
              0.4444444444444444,
              "#bd3786"
             ],
             [
              0.5555555555555556,
              "#d8576b"
             ],
             [
              0.6666666666666666,
              "#ed7953"
             ],
             [
              0.7777777777777778,
              "#fb9f3a"
             ],
             [
              0.8888888888888888,
              "#fdca26"
             ],
             [
              1,
              "#f0f921"
             ]
            ],
            "type": "histogram2d"
           }
          ],
          "histogram2dcontour": [
           {
            "colorbar": {
             "outlinewidth": 0,
             "ticks": ""
            },
            "colorscale": [
             [
              0,
              "#0d0887"
             ],
             [
              0.1111111111111111,
              "#46039f"
             ],
             [
              0.2222222222222222,
              "#7201a8"
             ],
             [
              0.3333333333333333,
              "#9c179e"
             ],
             [
              0.4444444444444444,
              "#bd3786"
             ],
             [
              0.5555555555555556,
              "#d8576b"
             ],
             [
              0.6666666666666666,
              "#ed7953"
             ],
             [
              0.7777777777777778,
              "#fb9f3a"
             ],
             [
              0.8888888888888888,
              "#fdca26"
             ],
             [
              1,
              "#f0f921"
             ]
            ],
            "type": "histogram2dcontour"
           }
          ],
          "mesh3d": [
           {
            "colorbar": {
             "outlinewidth": 0,
             "ticks": ""
            },
            "type": "mesh3d"
           }
          ],
          "parcoords": [
           {
            "line": {
             "colorbar": {
              "outlinewidth": 0,
              "ticks": ""
             }
            },
            "type": "parcoords"
           }
          ],
          "pie": [
           {
            "automargin": true,
            "type": "pie"
           }
          ],
          "scatter": [
           {
            "fillpattern": {
             "fillmode": "overlay",
             "size": 10,
             "solidity": 0.2
            },
            "type": "scatter"
           }
          ],
          "scatter3d": [
           {
            "line": {
             "colorbar": {
              "outlinewidth": 0,
              "ticks": ""
             }
            },
            "marker": {
             "colorbar": {
              "outlinewidth": 0,
              "ticks": ""
             }
            },
            "type": "scatter3d"
           }
          ],
          "scattercarpet": [
           {
            "marker": {
             "colorbar": {
              "outlinewidth": 0,
              "ticks": ""
             }
            },
            "type": "scattercarpet"
           }
          ],
          "scattergeo": [
           {
            "marker": {
             "colorbar": {
              "outlinewidth": 0,
              "ticks": ""
             }
            },
            "type": "scattergeo"
           }
          ],
          "scattergl": [
           {
            "marker": {
             "colorbar": {
              "outlinewidth": 0,
              "ticks": ""
             }
            },
            "type": "scattergl"
           }
          ],
          "scattermap": [
           {
            "marker": {
             "colorbar": {
              "outlinewidth": 0,
              "ticks": ""
             }
            },
            "type": "scattermap"
           }
          ],
          "scattermapbox": [
           {
            "marker": {
             "colorbar": {
              "outlinewidth": 0,
              "ticks": ""
             }
            },
            "type": "scattermapbox"
           }
          ],
          "scatterpolar": [
           {
            "marker": {
             "colorbar": {
              "outlinewidth": 0,
              "ticks": ""
             }
            },
            "type": "scatterpolar"
           }
          ],
          "scatterpolargl": [
           {
            "marker": {
             "colorbar": {
              "outlinewidth": 0,
              "ticks": ""
             }
            },
            "type": "scatterpolargl"
           }
          ],
          "scatterternary": [
           {
            "marker": {
             "colorbar": {
              "outlinewidth": 0,
              "ticks": ""
             }
            },
            "type": "scatterternary"
           }
          ],
          "surface": [
           {
            "colorbar": {
             "outlinewidth": 0,
             "ticks": ""
            },
            "colorscale": [
             [
              0,
              "#0d0887"
             ],
             [
              0.1111111111111111,
              "#46039f"
             ],
             [
              0.2222222222222222,
              "#7201a8"
             ],
             [
              0.3333333333333333,
              "#9c179e"
             ],
             [
              0.4444444444444444,
              "#bd3786"
             ],
             [
              0.5555555555555556,
              "#d8576b"
             ],
             [
              0.6666666666666666,
              "#ed7953"
             ],
             [
              0.7777777777777778,
              "#fb9f3a"
             ],
             [
              0.8888888888888888,
              "#fdca26"
             ],
             [
              1,
              "#f0f921"
             ]
            ],
            "type": "surface"
           }
          ],
          "table": [
           {
            "cells": {
             "fill": {
              "color": "#EBF0F8"
             },
             "line": {
              "color": "white"
             }
            },
            "header": {
             "fill": {
              "color": "#C8D4E3"
             },
             "line": {
              "color": "white"
             }
            },
            "type": "table"
           }
          ]
         },
         "layout": {
          "annotationdefaults": {
           "arrowcolor": "#2a3f5f",
           "arrowhead": 0,
           "arrowwidth": 1
          },
          "autotypenumbers": "strict",
          "coloraxis": {
           "colorbar": {
            "outlinewidth": 0,
            "ticks": ""
           }
          },
          "colorscale": {
           "diverging": [
            [
             0,
             "#8e0152"
            ],
            [
             0.1,
             "#c51b7d"
            ],
            [
             0.2,
             "#de77ae"
            ],
            [
             0.3,
             "#f1b6da"
            ],
            [
             0.4,
             "#fde0ef"
            ],
            [
             0.5,
             "#f7f7f7"
            ],
            [
             0.6,
             "#e6f5d0"
            ],
            [
             0.7,
             "#b8e186"
            ],
            [
             0.8,
             "#7fbc41"
            ],
            [
             0.9,
             "#4d9221"
            ],
            [
             1,
             "#276419"
            ]
           ],
           "sequential": [
            [
             0,
             "#0d0887"
            ],
            [
             0.1111111111111111,
             "#46039f"
            ],
            [
             0.2222222222222222,
             "#7201a8"
            ],
            [
             0.3333333333333333,
             "#9c179e"
            ],
            [
             0.4444444444444444,
             "#bd3786"
            ],
            [
             0.5555555555555556,
             "#d8576b"
            ],
            [
             0.6666666666666666,
             "#ed7953"
            ],
            [
             0.7777777777777778,
             "#fb9f3a"
            ],
            [
             0.8888888888888888,
             "#fdca26"
            ],
            [
             1,
             "#f0f921"
            ]
           ],
           "sequentialminus": [
            [
             0,
             "#0d0887"
            ],
            [
             0.1111111111111111,
             "#46039f"
            ],
            [
             0.2222222222222222,
             "#7201a8"
            ],
            [
             0.3333333333333333,
             "#9c179e"
            ],
            [
             0.4444444444444444,
             "#bd3786"
            ],
            [
             0.5555555555555556,
             "#d8576b"
            ],
            [
             0.6666666666666666,
             "#ed7953"
            ],
            [
             0.7777777777777778,
             "#fb9f3a"
            ],
            [
             0.8888888888888888,
             "#fdca26"
            ],
            [
             1,
             "#f0f921"
            ]
           ]
          },
          "colorway": [
           "#636efa",
           "#EF553B",
           "#00cc96",
           "#ab63fa",
           "#FFA15A",
           "#19d3f3",
           "#FF6692",
           "#B6E880",
           "#FF97FF",
           "#FECB52"
          ],
          "font": {
           "color": "#2a3f5f"
          },
          "geo": {
           "bgcolor": "white",
           "lakecolor": "white",
           "landcolor": "#E5ECF6",
           "showlakes": true,
           "showland": true,
           "subunitcolor": "white"
          },
          "hoverlabel": {
           "align": "left"
          },
          "hovermode": "closest",
          "mapbox": {
           "style": "light"
          },
          "paper_bgcolor": "white",
          "plot_bgcolor": "#E5ECF6",
          "polar": {
           "angularaxis": {
            "gridcolor": "white",
            "linecolor": "white",
            "ticks": ""
           },
           "bgcolor": "#E5ECF6",
           "radialaxis": {
            "gridcolor": "white",
            "linecolor": "white",
            "ticks": ""
           }
          },
          "scene": {
           "xaxis": {
            "backgroundcolor": "#E5ECF6",
            "gridcolor": "white",
            "gridwidth": 2,
            "linecolor": "white",
            "showbackground": true,
            "ticks": "",
            "zerolinecolor": "white"
           },
           "yaxis": {
            "backgroundcolor": "#E5ECF6",
            "gridcolor": "white",
            "gridwidth": 2,
            "linecolor": "white",
            "showbackground": true,
            "ticks": "",
            "zerolinecolor": "white"
           },
           "zaxis": {
            "backgroundcolor": "#E5ECF6",
            "gridcolor": "white",
            "gridwidth": 2,
            "linecolor": "white",
            "showbackground": true,
            "ticks": "",
            "zerolinecolor": "white"
           }
          },
          "shapedefaults": {
           "line": {
            "color": "#2a3f5f"
           }
          },
          "ternary": {
           "aaxis": {
            "gridcolor": "white",
            "linecolor": "white",
            "ticks": ""
           },
           "baxis": {
            "gridcolor": "white",
            "linecolor": "white",
            "ticks": ""
           },
           "bgcolor": "#E5ECF6",
           "caxis": {
            "gridcolor": "white",
            "linecolor": "white",
            "ticks": ""
           }
          },
          "title": {
           "x": 0.05
          },
          "xaxis": {
           "automargin": true,
           "gridcolor": "white",
           "linecolor": "white",
           "ticks": "",
           "title": {
            "standoff": 15
           },
           "zerolinecolor": "white",
           "zerolinewidth": 2
          },
          "yaxis": {
           "automargin": true,
           "gridcolor": "white",
           "linecolor": "white",
           "ticks": "",
           "title": {
            "standoff": 15
           },
           "zerolinecolor": "white",
           "zerolinewidth": 2
          }
         }
        },
        "title": {
         "text": "Customer Clusters in RFM Space"
        }
       }
      }
     },
     "metadata": {},
     "output_type": "display_data"
    },
    {
     "data": {
      "image/png": "[encoded data removed]",
      "text/plain": [
       "<Figure size 1200x800 with 2 Axes>"
      ]
     },
     "metadata": {},
     "output_type": "display_data"
    }
   ],
   "source": [
    "# Visualize clusters in 3D space\n",
    "fig = px.scatter_3d(\n",
    "    rfm, \n",
    "    x='recency_days', \n",
    "    y='frequency', \n",
    "    z='monetary_total',\n",
    "    color='cluster',\n",
    "    title='Customer Clusters in RFM Space',\n",
    "    labels={'recency_days': 'Recency (Days)', 'frequency': 'Frequency', 'monetary_total': 'Monetary Total'}\n",
    ")\n",
    "fig.show()\n",
    "\n",
    "# 2D scatter plot\n",
    "plt.figure(figsize=(12, 8))\n",
    "scatter = plt.scatter(rfm['recency_days'], rfm['frequency'], c=rfm['cluster'], cmap='viridis', alpha=0.6)\n",
    "plt.colorbar(scatter)\n",
    "plt.xlabel('Recency (Days)')\n",
    "plt.ylabel('Frequency')\n",
    "plt.title('Customer Clusters: Recency vs Frequency')\n",
    "plt.show()"
   ]
  },
  {
   "cell_type": "markdown",
   "metadata": {},
   "source": [
    "## 12: Identify High-Risk Cluster"
   ]
  },
  {
   "cell_type": "code",
   "execution_count": 13,
   "metadata": {},
   "outputs": [
    {
     "name": "stdout",
     "output_type": "stream",
     "text": [
      "=== CLUSTER RISK SCORES ===\n",
      "Cluster 0: Risk Score = 3/3\n",
      "Cluster 1: Risk Score = 0/3\n",
      "Cluster 2: Risk Score = 1/3\n",
      "\n",
      "High-risk cluster identified: Cluster 0\n",
      "Risk score: 3/3\n"
     ]
    }
   ],
   "source": [
    "# Determine the high-risk cluster\n",
    "# We'll identify the cluster with the highest risk score\n",
    "cluster_risk_scores = {}\n",
    "for cluster_id in sorted(rfm['cluster'].unique()):\n",
    "    cluster_data = rfm[rfm['cluster'] == cluster_id]\n",
    "    \n",
    "    # Calculate risk indicators\n",
    "    high_recency = cluster_data['recency_days'].mean() > rfm['recency_days'].mean()\n",
    "    low_frequency = cluster_data['frequency'].mean() < rfm['frequency'].mean()\n",
    "    low_monetary = cluster_data['monetary_total'].mean() < rfm['monetary_total'].mean()\n",
    "    \n",
    "    risk_score = sum([high_recency, low_frequency, low_monetary])\n",
    "    cluster_risk_scores[cluster_id] = risk_score\n",
    "\n",
    "print(\"=== CLUSTER RISK SCORES ===\")\n",
    "for cluster_id, score in cluster_risk_scores.items():\n",
    "    print(f\"Cluster {cluster_id}: Risk Score = {score}/3\")\n",
    "\n",
    "# Identify the high-risk cluster (highest risk score)\n",
    "high_risk_cluster = max(cluster_risk_scores, key=cluster_risk_scores.get)\n",
    "print(f\"\\nHigh-risk cluster identified: Cluster {high_risk_cluster}\")\n",
    "print(f\"Risk score: {cluster_risk_scores[high_risk_cluster]}/3\")"
   ]
  },
  {
   "cell_type": "markdown",
   "metadata": {},
   "source": [
    "## 13: Create Binary Target Variable"
   ]
  },
  {
   "cell_type": "code",
   "execution_count": 14,
   "metadata": {},
   "outputs": [
    {
     "name": "stdout",
     "output_type": "stream",
     "text": [
      "=== TARGET VARIABLE CREATION ===\n",
      "High-risk customers: 1699 (45.40%)\n",
      "Low-risk customers: 2043 (54.60%)\n",
      "\n",
      "=== TARGET VARIABLE DISTRIBUTION ===\n",
      "is_high_risk\n",
      "0    2043\n",
      "1    1699\n",
      "Name: count, dtype: int64\n"
     ]
    }
   ],
   "source": [
    "# Create binary target variable\n",
    "rfm['is_high_risk'] = (rfm['cluster'] == high_risk_cluster).astype(int)\n",
    "\n",
    "print(\"=== TARGET VARIABLE CREATION ===\")\n",
    "print(f\"High-risk customers: {rfm['is_high_risk'].sum()} ({rfm['is_high_risk'].sum()/len(rfm)*100:.2f}%)\")\n",
    "print(f\"Low-risk customers: {(rfm['is_high_risk'] == 0).sum()} ({(rfm['is_high_risk'] == 0).sum()/len(rfm)*100:.2f}%)\")\n",
    "\n",
    "# Display target variable distribution\n",
    "print(\"\\n=== TARGET VARIABLE DISTRIBUTION ===\")\n",
    "print(rfm['is_high_risk'].value_counts().sort_index())"
   ]
  },
  {
   "cell_type": "markdown",
   "metadata": {},
   "source": [
    "## 14: Analyze Risk Class Characteristics"
   ]
  },
  {
   "cell_type": "code",
   "execution_count": 15,
   "metadata": {},
   "outputs": [
    {
     "name": "stdout",
     "output_type": "stream",
     "text": [
      "=== RISK CLASS CHARACTERISTICS ===\n",
      "             recency_days        frequency         monetary_total            \n",
      "                     mean    std      mean     std           mean         std\n",
      "is_high_risk                                                                 \n",
      "0                   10.42   9.85     42.12  128.66      252047.21  3607007.47\n",
      "1                   56.77  18.16      5.66    8.22       75167.85   777375.95\n",
      "\n",
      "=== RISK CLASS COMPARISON ===\n",
      "           Avg_Recency  Avg_Frequency  Avg_Monetary  Customer_Count\n",
      "Low Risk         10.42          42.12     252047.21            2043\n",
      "High Risk        56.77           5.66      75167.85            1699\n"
     ]
    }
   ],
   "source": [
    "# Analyze characteristics of high-risk vs low-risk customers\n",
    "risk_analysis = rfm.groupby('is_high_risk')[features_for_clustering].agg(['mean', 'std']).round(2)\n",
    "print(\"=== RISK CLASS CHARACTERISTICS ===\")\n",
    "print(risk_analysis)\n",
    "\n",
    "# Create comparison table\n",
    "comparison = rfm.groupby('is_high_risk').agg({\n",
    "    'recency_days': 'mean',\n",
    "    'frequency': 'mean',\n",
    "    'monetary_total': 'mean',\n",
    "    'CustomerId': 'count'\n",
    "}).round(2)\n",
    "comparison.columns = ['Avg_Recency', 'Avg_Frequency', 'Avg_Monetary', 'Customer_Count']\n",
    "comparison.index = ['Low Risk', 'High Risk']\n",
    "\n",
    "print(\"\\n=== RISK CLASS COMPARISON ===\")\n",
    "print(comparison)"
   ]
  },
  {
   "cell_type": "markdown",
   "metadata": {},
   "source": [
    "## 15: Visualize Target Variable Distribution"
   ]
  },
  {
   "cell_type": "code",
   "execution_count": 16,
   "metadata": {},
   "outputs": [
    {
     "data": {
      "image/png": "[encoded data removed]",
      "text/plain": [
       "<Figure size 1500x600 with 2 Axes>"
      ]
     },
     "metadata": {},
     "output_type": "display_data"
    }
   ],
   "source": [
    "# Visualize the target variable distribution\n",
    "fig, axes = plt.subplots(1, 2, figsize=(15, 6))\n",
    "\n",
    "# Pie chart\n",
    "risk_counts = rfm['is_high_risk'].value_counts()\n",
    "axes[0].pie(risk_counts.values, labels=['Low Risk', 'High Risk'], autopct='%1.1f%%', startangle=90)\n",
    "axes[0].set_title('Distribution of Risk Classes')\n",
    "\n",
    "# Bar chart\n",
    "axes[1].bar(['Low Risk', 'High Risk'], risk_counts.values, color=['lightgreen', 'salmon'])\n",
    "axes[1].set_title('Count of Risk Classes')\n",
    "axes[1].set_ylabel('Number of Customers')\n",
    "for i, v in enumerate(risk_counts.values):\n",
    "    axes[1].text(i, v + max(risk_counts.values) * 0.01, str(v), ha='center', va='bottom')\n",
    "\n",
    "plt.tight_layout()\n",
    "plt.show()"
   ]
  },
  {
   "cell_type": "markdown",
   "metadata": {},
   "source": [
    "## 16: Create Final Target Dataset"
   ]
  },
  {
   "cell_type": "code",
   "execution_count": 17,
   "metadata": {},
   "outputs": [
    {
     "name": "stdout",
     "output_type": "stream",
     "text": [
      "=== FINAL TARGET DATASET ===\n",
      "Shape: (3742, 7)\n",
      "Columns: ['CustomerId', 'recency_days', 'frequency', 'monetary_total', 'monetary_avg', 'cluster', 'is_high_risk']\n"
     ]
    },
    {
     "data": {
      "text/html": [
       "<div>\n",
       "<style scoped>\n",
       "    .dataframe tbody tr th:only-of-type {\n",
       "        vertical-align: middle;\n",
       "    }\n",
       "\n",
       "    .dataframe tbody tr th {\n",
       "        vertical-align: top;\n",
       "    }\n",
       "\n",
       "    .dataframe thead th {\n",
       "        text-align: right;\n",
       "    }\n",
       "</style>\n",
       "<table border=\"1\" class=\"dataframe\">\n",
       "  <thead>\n",
       "    <tr style=\"text-align: right;\">\n",
       "      <th></th>\n",
       "      <th>CustomerId</th>\n",
       "      <th>recency_days</th>\n",
       "      <th>frequency</th>\n",
       "      <th>monetary_total</th>\n",
       "      <th>monetary_avg</th>\n",
       "      <th>cluster</th>\n",
       "      <th>is_high_risk</th>\n",
       "    </tr>\n",
       "  </thead>\n",
       "  <tbody>\n",
       "    <tr>\n",
       "      <th>0</th>\n",
       "      <td>CustomerId_1</td>\n",
       "      <td>84</td>\n",
       "      <td>1</td>\n",
       "      <td>-10000.0</td>\n",
       "      <td>-10000.00</td>\n",
       "      <td>0</td>\n",
       "      <td>1</td>\n",
       "    </tr>\n",
       "    <tr>\n",
       "      <th>1</th>\n",
       "      <td>CustomerId_10</td>\n",
       "      <td>84</td>\n",
       "      <td>1</td>\n",
       "      <td>-10000.0</td>\n",
       "      <td>-10000.00</td>\n",
       "      <td>0</td>\n",
       "      <td>1</td>\n",
       "    </tr>\n",
       "    <tr>\n",
       "      <th>2</th>\n",
       "      <td>CustomerId_1001</td>\n",
       "      <td>90</td>\n",
       "      <td>5</td>\n",
       "      <td>20000.0</td>\n",
       "      <td>4000.00</td>\n",
       "      <td>0</td>\n",
       "      <td>1</td>\n",
       "    </tr>\n",
       "    <tr>\n",
       "      <th>3</th>\n",
       "      <td>CustomerId_1002</td>\n",
       "      <td>26</td>\n",
       "      <td>11</td>\n",
       "      <td>4225.0</td>\n",
       "      <td>384.09</td>\n",
       "      <td>1</td>\n",
       "      <td>0</td>\n",
       "    </tr>\n",
       "    <tr>\n",
       "      <th>4</th>\n",
       "      <td>CustomerId_1003</td>\n",
       "      <td>12</td>\n",
       "      <td>6</td>\n",
       "      <td>20000.0</td>\n",
       "      <td>3333.33</td>\n",
       "      <td>1</td>\n",
       "      <td>0</td>\n",
       "    </tr>\n",
       "  </tbody>\n",
       "</table>\n",
       "</div>"
      ],
      "text/plain": [
       "        CustomerId  recency_days  frequency  monetary_total  monetary_avg  cluster  is_high_risk\n",
       "0     CustomerId_1            84          1        -10000.0     -10000.00        0             1\n",
       "1    CustomerId_10            84          1        -10000.0     -10000.00        0             1\n",
       "2  CustomerId_1001            90          5         20000.0       4000.00        0             1\n",
       "3  CustomerId_1002            26         11          4225.0        384.09        1             0\n",
       "4  CustomerId_1003            12          6         20000.0       3333.33        1             0"
      ]
     },
     "execution_count": 17,
     "metadata": {},
     "output_type": "execute_result"
    }
   ],
   "source": [
    "# Select only the necessary columns for the final dataset\n",
    "target_dataset = rfm[['CustomerId', 'recency_days', 'frequency', 'monetary_total', 'monetary_avg', 'cluster', 'is_high_risk']].copy()\n",
    "\n",
    "print(\"=== FINAL TARGET DATASET ===\")\n",
    "print(f\"Shape: {target_dataset.shape}\")\n",
    "print(f\"Columns: {list(target_dataset.columns)}\")\n",
    "target_dataset.head()"
   ]
  },
  {
   "cell_type": "markdown",
   "metadata": {},
   "source": [
    "## 17: Save Datasets"
   ]
  },
  {
   "cell_type": "code",
   "execution_count": 18,
   "metadata": {},
   "outputs": [
    {
     "name": "stdout",
     "output_type": "stream",
     "text": [
      "Target dataset saved to '../data/processed/customer_risk_target.csv'\n",
      "RFM dataset with target saved to '../data/processed/rfm_with_target.csv'\n",
      "\n",
      "=== SAVED DATASET SUMMARY ===\n",
      "Total customers: 3742\n",
      "High-risk customers: 1699 (45.40%)\n",
      "Low-risk customers: 2043 (54.60%)\n"
     ]
    }
   ],
   "source": [
    "# Save the target dataset\n",
    "target_dataset.to_csv('../data/processed/customer_risk_target.csv', index=False)\n",
    "print(\"Target dataset saved to '../data/processed/customer_risk_target.csv'\")\n",
    "\n",
    "# Also save the RFM dataset with all information\n",
    "rfm.to_csv('../data/processed/rfm_with_target.csv', index=False)\n",
    "print(\"RFM dataset with target saved to '../data/processed/rfm_with_target.csv'\")\n",
    "\n",
    "# Display summary of saved data\n",
    "print(f\"\\n=== SAVED DATASET SUMMARY ===\")\n",
    "print(f\"Total customers: {len(target_dataset)}\")\n",
    "print(f\"High-risk customers: {target_dataset['is_high_risk'].sum()} ({target_dataset['is_high_risk'].sum()/len(target_dataset)*100:.2f}%)\")\n",
    "print(f\"Low-risk customers: {(target_dataset['is_high_risk'] == 0).sum()} ({(target_dataset['is_high_risk'] == 0).sum()/len(target_dataset)*100:.2f}%)\")"
   ]
  },
  {
   "cell_type": "markdown",
   "metadata": {},
   "source": [
    "## 18: Quality Checks"
   ]
  },
  {
   "cell_type": "code",
   "execution_count": 19,
   "metadata": {},
   "outputs": [
    {
     "name": "stdout",
     "output_type": "stream",
     "text": [
      "=== QUALITY CHECKS ===\n",
      "1. Missing values:\n",
      "CustomerId        0\n",
      "recency_days      0\n",
      "frequency         0\n",
      "monetary_total    0\n",
      "monetary_avg      0\n",
      "cluster           0\n",
      "is_high_risk      0\n",
      "dtype: int64\n",
      "\n",
      "2. Duplicate CustomerIds: 0\n",
      "\n",
      "3. Target variable distribution:\n",
      "is_high_risk\n",
      "0    2043\n",
      "1    1699\n",
      "Name: count, dtype: int64\n",
      "\n",
      "4. Data types:\n",
      "CustomerId         object\n",
      "recency_days        int64\n",
      "frequency           int64\n",
      "monetary_total    float64\n",
      "monetary_avg      float64\n",
      "cluster             int32\n",
      "is_high_risk        int64\n",
      "dtype: object\n",
      "\n",
      "5. RFM metrics validation:\n",
      "   - Recency range: 1 to 91 days\n",
      "   - Frequency range: 1 to 4091 transactions\n",
      "   - Monetary range: -104900000.00 to 83451240.00\n"
     ]
    }
   ],
   "source": [
    "# Quality checks\n",
    "print(\"=== QUALITY CHECKS ===\")\n",
    "\n",
    "# Check for missing values\n",
    "print(\"1. Missing values:\")\n",
    "print(target_dataset.isnull().sum())\n",
    "\n",
    "# Check for duplicate CustomerIds\n",
    "print(f\"\\n2. Duplicate CustomerIds: {target_dataset['CustomerId'].duplicated().sum()}\")\n",
    "\n",
    "# Verify target variable distribution\n",
    "print(f\"\\n3. Target variable distribution:\")\n",
    "print(target_dataset['is_high_risk'].value_counts().sort_index())\n",
    "\n",
    "# Check data types\n",
    "print(f\"\\n4. Data types:\")\n",
    "print(target_dataset.dtypes)\n",
    "\n",
    "# Verify RFM metrics are reasonable\n",
    "print(f\"\\n5. RFM metrics validation:\")\n",
    "print(f\"   - Recency range: {target_dataset['recency_days'].min():.0f} to {target_dataset['recency_days'].max():.0f} days\")\n",
    "print(f\"   - Frequency range: {target_dataset['frequency'].min():.0f} to {target_dataset['frequency'].max():.0f} transactions\")\n",
    "print(f\"   - Monetary range: {target_dataset['monetary_total'].min():.2f} to {target_dataset['monetary_total'].max():.2f}\")"
   ]
  },
  {
   "cell_type": "markdown",
   "metadata": {},
   "source": [
    "## 19: Final Summary"
   ]
  },
  {
   "cell_type": "code",
   "execution_count": 21,
   "metadata": {},
   "outputs": [
    {
     "name": "stdout",
     "output_type": "stream",
     "text": [
      "=== COMPLETION SUMMARY ===\n",
      "✅ RFM metrics calculated for 3742 customers\n",
      "✅ Customers clustered into 3 groups using K-Means\n",
      "✅ High-risk cluster identified: Cluster 0\n",
      "✅ Binary target variable 'is_high_risk' created\n",
      "✅ Target dataset saved with 1699 high-risk customers (45.40%)\n",
      "✅ Silhouette score: 0.4618\n",
      "\n",
      "=== DATASET FILES CREATED ===\n",
      "1. '../data/processed/customer_risk_target.csv' - Main target dataset\n",
      "2. '../data/processed/rfm_with_target.csv' - RFM dataset with target variable\n",
      "\n",
      "=== NEXT STEPS ===\n",
      "1. Use the target dataset for model training\n",
      "2. Combine with other features for comprehensive credit risk modeling\n",
      "3. Validate the proxy target variable with domain experts\n",
      "4. Monitor model performance and adjust risk thresholds if needed\n"
     ]
    }
   ],
   "source": [
    "# Final summary\n",
    "print(\"=== COMPLETION SUMMARY ===\")\n",
    "print(f\"✅ RFM metrics calculated for {len(rfm)} customers\")\n",
    "print(f\"✅ Customers clustered into {len(rfm['cluster'].unique())} groups using K-Means\")\n",
    "print(f\"✅ High-risk cluster identified: Cluster {high_risk_cluster}\")\n",
    "print(f\"✅ Binary target variable 'is_high_risk' created\")\n",
    "print(f\"✅ Target dataset saved with {target_dataset['is_high_risk'].sum()} high-risk customers ({target_dataset['is_high_risk'].sum()/len(target_dataset)*100:.2f}%)\")\n",
    "print(f\"✅ Silhouette score: {silhouette_avg:.4f}\")\n",
    "\n",
    "print(f\"\\n=== DATASET FILES CREATED ===\")\n",
    "print(\"1. '../data/processed/customer_risk_target.csv' - Main target dataset\")\n",
    "print(\"2. '../data/processed/rfm_with_target.csv' - RFM dataset with target variable\")\n",
    "\n",
    "print(f\"\\n=== NEXT STEPS ===\")\n",
    "print(\"1. Use the target dataset for model training\")\n",
    "print(\"2. Combine with other features for comprehensive credit risk modeling\")\n",
    "print(\"3. Validate the proxy target variable with domain experts\")\n",
    "print(\"4. Monitor model performance and adjust risk thresholds if needed\")"
   ]
  }
 ],
 "metadata": {
  "kernelspec": {
   "display_name": "venv_new",
   "language": "python",
   "name": "python3"
  },
  "language_info": {
   "codemirror_mode": {
    "name": "ipython",
    "version": 3
   },
   "file_extension": ".py",
   "mimetype": "text/x-python",
   "name": "python",
   "nbconvert_exporter": "python",
   "pygments_lexer": "ipython3",
   "version": "3.13.5"
  }
 },
 "nbformat": 4,
 "nbformat_minor": 2
}
